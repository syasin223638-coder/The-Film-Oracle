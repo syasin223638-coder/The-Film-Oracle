{
 "cells": [
  {
   "cell_type": "code",
   "execution_count": 5,
   "metadata": {
    "id": "K01FTixCH3Lf"
   },
   "outputs": [],
   "source": [
    "!pip install nltk scikit-learn numpy pandas -q"
   ]
  },
  {
   "cell_type": "code",
   "execution_count": 6,
   "metadata": {
    "id": "7A_QWNZGaOzz"
   },
   "outputs": [],
   "source": [
    "import numpy as np\n",
    "import pandas as pd\n",
    "from sklearn.feature_extraction.text import TfidfVectorizer\n",
    "from sklearn.metrics.pairwise import cosine_similarity\n",
    "import re\n",
    "import nltk\n",
    "from nltk.corpus import stopwords\n",
    "from nltk.tokenize import word_tokenize"
   ]
  },
  {
   "cell_type": "code",
   "execution_count": 7,
   "metadata": {
    "id": "ZoPt8N30cCwf"
   },
   "outputs": [],
   "source": [
    "# loading the movies dataset\n",
    "movies = pd.read_csv('movies.csv')"
   ]
  },
  {
   "cell_type": "code",
   "execution_count": 8,
   "metadata": {
    "colab": {
     "base_uri": "https://localhost:8080/"
    },
    "executionInfo": {
     "elapsed": 12,
     "status": "ok",
     "timestamp": 1760444664355,
     "user": {
      "displayName": "Shakib Ahmed",
      "userId": "10423576209203003437"
     },
     "user_tz": -360
    },
    "id": "kQgKVKNhd9Ij",
    "outputId": "ffe9631e-bcf0-4e15-bc9a-3d0739f97d78"
   },
   "outputs": [
    {
     "data": {
      "text/plain": [
       "(434437, 29)"
      ]
     },
     "execution_count": 8,
     "metadata": {},
     "output_type": "execute_result"
    }
   ],
   "source": [
    "# shape of the dataset (rows, columns)\n",
    "movies.shape"
   ]
  },
  {
   "cell_type": "code",
   "execution_count": 9,
   "metadata": {
    "colab": {
     "base_uri": "https://localhost:8080/",
     "height": 690
    },
    "executionInfo": {
     "elapsed": 66,
     "status": "ok",
     "timestamp": 1760444664437,
     "user": {
      "displayName": "Shakib Ahmed",
      "userId": "10423576209203003437"
     },
     "user_tz": -360
    },
    "id": "rhAh4TSyyVeO",
    "outputId": "11b17b80-a013-437d-a687-213ddd3be17b"
   },
   "outputs": [
    {
     "data": {
      "application/vnd.microsoft.datawrangler.viewer.v0+json": {
       "columns": [
        {
         "name": "index",
         "rawType": "int64",
         "type": "integer"
        },
        {
         "name": "id",
         "rawType": "int64",
         "type": "integer"
        },
        {
         "name": "title",
         "rawType": "object",
         "type": "string"
        },
        {
         "name": "vote_average",
         "rawType": "float64",
         "type": "float"
        },
        {
         "name": "vote_count",
         "rawType": "int64",
         "type": "integer"
        },
        {
         "name": "status",
         "rawType": "object",
         "type": "string"
        },
        {
         "name": "release_date",
         "rawType": "object",
         "type": "string"
        },
        {
         "name": "revenue",
         "rawType": "int64",
         "type": "integer"
        },
        {
         "name": "runtime",
         "rawType": "int64",
         "type": "integer"
        },
        {
         "name": "adult",
         "rawType": "bool",
         "type": "boolean"
        },
        {
         "name": "backdrop_path",
         "rawType": "object",
         "type": "string"
        },
        {
         "name": "budget",
         "rawType": "int64",
         "type": "integer"
        },
        {
         "name": "homepage",
         "rawType": "object",
         "type": "string"
        },
        {
         "name": "tconst",
         "rawType": "object",
         "type": "string"
        },
        {
         "name": "original_language",
         "rawType": "object",
         "type": "string"
        },
        {
         "name": "original_title",
         "rawType": "object",
         "type": "string"
        },
        {
         "name": "overview",
         "rawType": "object",
         "type": "string"
        },
        {
         "name": "popularity",
         "rawType": "float64",
         "type": "float"
        },
        {
         "name": "poster_path",
         "rawType": "object",
         "type": "string"
        },
        {
         "name": "tagline",
         "rawType": "object",
         "type": "string"
        },
        {
         "name": "genres",
         "rawType": "object",
         "type": "string"
        },
        {
         "name": "production_companies",
         "rawType": "object",
         "type": "string"
        },
        {
         "name": "production_countries",
         "rawType": "object",
         "type": "string"
        },
        {
         "name": "spoken_languages",
         "rawType": "object",
         "type": "string"
        },
        {
         "name": "keywords",
         "rawType": "object",
         "type": "string"
        },
        {
         "name": "directors",
         "rawType": "object",
         "type": "string"
        },
        {
         "name": "writers",
         "rawType": "object",
         "type": "string"
        },
        {
         "name": "averageRating",
         "rawType": "float64",
         "type": "float"
        },
        {
         "name": "numVotes",
         "rawType": "int64",
         "type": "integer"
        },
        {
         "name": "cast",
         "rawType": "object",
         "type": "string"
        }
       ],
       "ref": "f47157ce-2544-41e7-b8ed-8f3327553c52",
       "rows": [
        [
         "0",
         "27205",
         "Inception",
         "8.364",
         "34495",
         "Released",
         "2010-07-15",
         "825532764",
         "148",
         "False",
         "/8ZTVqvKDQ8emSGUEMjsS4yHAwrp.jpg",
         "160000000",
         "https://www.warnerbros.com/movies/inception",
         "tt1375666",
         "en",
         "Inception",
         "Cobb, a skilled thief who commits corporate espionage by infiltrating the subconscious of his targets is offered a chance to regain his old life as payment for a task considered to be impossible: \"inception\", the implantation of another person's idea into a target's subconscious.",
         "83.952",
         "/oYuLEt3zVCKq57qu2F8dT7NIa6f.jpg",
         "Your mind is the scene of the crime.",
         "Action, Science Fiction, Adventure",
         "Legendary Pictures, Syncopy, Warner Bros. Pictures",
         "United Kingdom, United States of America",
         "English, French, Japanese, Swahili",
         "rescue, mission, dream, airplane, paris, france, virtual reality, kidnapping, philosophy, spy, allegory, manipulation, car crash, heist, memory, architecture, los angeles, california, dream world, subconscious",
         "Christopher Nolan",
         "Christopher Nolan",
         "8.8",
         "2684780",
         "Leonardo DiCaprio, Joseph Gordon-Levitt, Ken Watanabe, Tom Hardy, Elliot Page, Dileep Rao, Cillian Murphy, Tom Berenger, Marion Cotillard, Pete Postlethwaite"
        ],
        [
         "1",
         "157336",
         "Interstellar",
         "8.417",
         "32571",
         "Released",
         "2014-11-05",
         "701729206",
         "169",
         "False",
         "/pbrkL804c8yAv3zBZR4QPEafpAR.jpg",
         "165000000",
         "http://www.interstellarmovie.net/",
         "tt0816692",
         "en",
         "Interstellar",
         "The adventures of a group of explorers who make use of a newly discovered wormhole to surpass the limitations on human space travel and conquer the vast distances involved in an interstellar voyage.",
         "140.241",
         "/gEU2QniE6E77NI6lCU6MxlNBvIx.jpg",
         "Mankind was born on Earth. It was never meant to die here.",
         "Adventure, Drama, Science Fiction",
         "Legendary Pictures, Syncopy, Lynda Obst Productions",
         "United Kingdom, United States of America",
         "English",
         "rescue, future, spacecraft, race against time, artificial intelligence (a.i.), nasa, time warp, dystopia, expedition, space travel, wormhole, famine, black hole, quantum mechanics, family relationships, space, robot, astronaut, scientist, single father, farmer, space station, curious, space adventure, time paradox, thoughtful, time-manipulation, father daughter relationship, 2060s, cornfield, time manipulation, complicated",
         "Christopher Nolan",
         "Jonathan Nolan, Christopher Nolan",
         "8.7",
         "2346977",
         "Matthew McConaughey, Anne Hathaway, Michael Caine, Jessica Chastain, Casey Affleck, Wes Bentley, Topher Grace, Mackenzie Foy, Ellen Burstyn, John Lithgow"
        ],
        [
         "2",
         "155",
         "The Dark Knight",
         "8.512",
         "30619",
         "Released",
         "2008-07-16",
         "1004558444",
         "152",
         "False",
         "/nMKdUUepR0i5zn0y1T4CsSB5chy.jpg",
         "185000000",
         "https://www.warnerbros.com/movies/dark-knight/",
         "tt0468569",
         "en",
         "The Dark Knight",
         "Batman raises the stakes in his war on crime. With the help of Lt. Jim Gordon and District Attorney Harvey Dent, Batman sets out to dismantle the remaining criminal organizations that plague the streets. The partnership proves to be effective, but they soon find themselves prey to a reign of chaos unleashed by a rising criminal mastermind known to the terrified citizens of Gotham as the Joker.",
         "130.643",
         "/qJ2tW6WMUDux911r6m7haRef0WH.jpg",
         "Welcome to a world without rules.",
         "Drama, Action, Crime, Thriller",
         "DC Comics, Legendary Pictures, Syncopy, Isobel Griffiths, Warner Bros. Pictures",
         "United Kingdom, United States of America",
         "English, Mandarin",
         "joker, sadism, chaos, secret identity, crime fighter, superhero, anti hero, scarecrow, based on comic, vigilante, organized crime, tragic hero, anti villain, criminal mastermind, district attorney, super power, super villain, neo-noir",
         "Christopher Nolan",
         "Jonathan Nolan, Christopher Nolan, David S. Goyer, Bob Kane",
         "9.0",
         "3022443",
         "Christian Bale, Heath Ledger, Aaron Eckhart, Michael Caine, Maggie Gyllenhaal, Gary Oldman, Morgan Freeman, Monique Gabriela Curnen, Ron Dean, Cillian Murphy"
        ],
        [
         "3",
         "19995",
         "Avatar",
         "7.573",
         "29815",
         "Released",
         "2009-12-15",
         "2923706026",
         "162",
         "False",
         "/vL5LR6WdxWPjLPFRLe133jXWsh5.jpg",
         "237000000",
         "https://www.avatar.com/movies/avatar",
         "tt0499549",
         "en",
         "Avatar",
         "In the 22nd century, a paraplegic Marine is dispatched to the moon Pandora on a unique mission, but becomes torn between following orders and protecting an alien civilization.",
         "79.932",
         "/kyeqWdyUXW608qlYkRqosgbbJyK.jpg",
         "Enter the world of Pandora.",
         "Action, Adventure, Fantasy, Science Fiction",
         "Dune Entertainment, Lightstorm Entertainment, 20th Century Fox, Ingenious Media",
         "United States of America, United Kingdom",
         "English, Spanish",
         "future, society, culture clash, space travel, space war, space colony, tribe, romance, alien, futuristic, space, alien planet, marine, soldier, battle, love affair, nature, anti war, power relations, joyful",
         "James Cameron",
         "James Cameron",
         "7.9",
         "1431576",
         "Sam Worthington, Zoe Saldaña, Sigourney Weaver, Stephen Lang, Michelle Rodriguez, Giovanni Ribisi, Joel David Moore, CCH Pounder, Wes Studi, Laz Alonso"
        ],
        [
         "4",
         "24428",
         "The Avengers",
         "7.71",
         "29166",
         "Released",
         "2012-04-25",
         "1518815515",
         "143",
         "False",
         "/9BBTo63ANSmhC4e6r62OJFuK2GL.jpg",
         "220000000",
         "https://www.marvel.com/movies/the-avengers",
         "tt0848228",
         "en",
         "The Avengers",
         "When an unexpected enemy emerges and threatens global safety and security, Nick Fury, director of the international peacekeeping agency known as S.H.I.E.L.D., finds himself in need of a team to pull the world back from the brink of disaster. Spanning the globe, a daring recruitment effort begins!",
         "98.082",
         "/RYMX2wcKCBAr24UyPD7xwmjaTn.jpg",
         "Some assembly required.",
         "Science Fiction, Action, Adventure",
         "Marvel Studios",
         "United States of America",
         "English, Hindi, Russian",
         "new york city, superhero, shield, based on comic, alien invasion, superhero team, aftercreditsstinger, duringcreditsstinger, marvel cinematic universe (mcu)",
         "Joss Whedon",
         "Joss Whedon, Zak Penn",
         "8.0",
         "1508926",
         "Robert Downey Jr., Chris Evans, Mark Ruffalo, Chris Hemsworth, Scarlett Johansson, Jeremy Renner, Tom Hiddleston, Clark Gregg, Cobie Smulders, Stellan Skarsgård"
        ]
       ],
       "shape": {
        "columns": 29,
        "rows": 5
       }
      },
      "text/html": [
       "<div>\n",
       "<style scoped>\n",
       "    .dataframe tbody tr th:only-of-type {\n",
       "        vertical-align: middle;\n",
       "    }\n",
       "\n",
       "    .dataframe tbody tr th {\n",
       "        vertical-align: top;\n",
       "    }\n",
       "\n",
       "    .dataframe thead th {\n",
       "        text-align: right;\n",
       "    }\n",
       "</style>\n",
       "<table border=\"1\" class=\"dataframe\">\n",
       "  <thead>\n",
       "    <tr style=\"text-align: right;\">\n",
       "      <th></th>\n",
       "      <th>id</th>\n",
       "      <th>title</th>\n",
       "      <th>vote_average</th>\n",
       "      <th>vote_count</th>\n",
       "      <th>status</th>\n",
       "      <th>release_date</th>\n",
       "      <th>revenue</th>\n",
       "      <th>runtime</th>\n",
       "      <th>adult</th>\n",
       "      <th>backdrop_path</th>\n",
       "      <th>...</th>\n",
       "      <th>genres</th>\n",
       "      <th>production_companies</th>\n",
       "      <th>production_countries</th>\n",
       "      <th>spoken_languages</th>\n",
       "      <th>keywords</th>\n",
       "      <th>directors</th>\n",
       "      <th>writers</th>\n",
       "      <th>averageRating</th>\n",
       "      <th>numVotes</th>\n",
       "      <th>cast</th>\n",
       "    </tr>\n",
       "  </thead>\n",
       "  <tbody>\n",
       "    <tr>\n",
       "      <th>0</th>\n",
       "      <td>27205</td>\n",
       "      <td>Inception</td>\n",
       "      <td>8.364</td>\n",
       "      <td>34495</td>\n",
       "      <td>Released</td>\n",
       "      <td>2010-07-15</td>\n",
       "      <td>825532764</td>\n",
       "      <td>148</td>\n",
       "      <td>False</td>\n",
       "      <td>/8ZTVqvKDQ8emSGUEMjsS4yHAwrp.jpg</td>\n",
       "      <td>...</td>\n",
       "      <td>Action, Science Fiction, Adventure</td>\n",
       "      <td>Legendary Pictures, Syncopy, Warner Bros. Pict...</td>\n",
       "      <td>United Kingdom, United States of America</td>\n",
       "      <td>English, French, Japanese, Swahili</td>\n",
       "      <td>rescue, mission, dream, airplane, paris, franc...</td>\n",
       "      <td>Christopher Nolan</td>\n",
       "      <td>Christopher Nolan</td>\n",
       "      <td>8.8</td>\n",
       "      <td>2684780</td>\n",
       "      <td>Leonardo DiCaprio, Joseph Gordon-Levitt, Ken W...</td>\n",
       "    </tr>\n",
       "    <tr>\n",
       "      <th>1</th>\n",
       "      <td>157336</td>\n",
       "      <td>Interstellar</td>\n",
       "      <td>8.417</td>\n",
       "      <td>32571</td>\n",
       "      <td>Released</td>\n",
       "      <td>2014-11-05</td>\n",
       "      <td>701729206</td>\n",
       "      <td>169</td>\n",
       "      <td>False</td>\n",
       "      <td>/pbrkL804c8yAv3zBZR4QPEafpAR.jpg</td>\n",
       "      <td>...</td>\n",
       "      <td>Adventure, Drama, Science Fiction</td>\n",
       "      <td>Legendary Pictures, Syncopy, Lynda Obst Produc...</td>\n",
       "      <td>United Kingdom, United States of America</td>\n",
       "      <td>English</td>\n",
       "      <td>rescue, future, spacecraft, race against time,...</td>\n",
       "      <td>Christopher Nolan</td>\n",
       "      <td>Jonathan Nolan, Christopher Nolan</td>\n",
       "      <td>8.7</td>\n",
       "      <td>2346977</td>\n",
       "      <td>Matthew McConaughey, Anne Hathaway, Michael Ca...</td>\n",
       "    </tr>\n",
       "    <tr>\n",
       "      <th>2</th>\n",
       "      <td>155</td>\n",
       "      <td>The Dark Knight</td>\n",
       "      <td>8.512</td>\n",
       "      <td>30619</td>\n",
       "      <td>Released</td>\n",
       "      <td>2008-07-16</td>\n",
       "      <td>1004558444</td>\n",
       "      <td>152</td>\n",
       "      <td>False</td>\n",
       "      <td>/nMKdUUepR0i5zn0y1T4CsSB5chy.jpg</td>\n",
       "      <td>...</td>\n",
       "      <td>Drama, Action, Crime, Thriller</td>\n",
       "      <td>DC Comics, Legendary Pictures, Syncopy, Isobel...</td>\n",
       "      <td>United Kingdom, United States of America</td>\n",
       "      <td>English, Mandarin</td>\n",
       "      <td>joker, sadism, chaos, secret identity, crime f...</td>\n",
       "      <td>Christopher Nolan</td>\n",
       "      <td>Jonathan Nolan, Christopher Nolan, David S. Go...</td>\n",
       "      <td>9.0</td>\n",
       "      <td>3022443</td>\n",
       "      <td>Christian Bale, Heath Ledger, Aaron Eckhart, M...</td>\n",
       "    </tr>\n",
       "    <tr>\n",
       "      <th>3</th>\n",
       "      <td>19995</td>\n",
       "      <td>Avatar</td>\n",
       "      <td>7.573</td>\n",
       "      <td>29815</td>\n",
       "      <td>Released</td>\n",
       "      <td>2009-12-15</td>\n",
       "      <td>2923706026</td>\n",
       "      <td>162</td>\n",
       "      <td>False</td>\n",
       "      <td>/vL5LR6WdxWPjLPFRLe133jXWsh5.jpg</td>\n",
       "      <td>...</td>\n",
       "      <td>Action, Adventure, Fantasy, Science Fiction</td>\n",
       "      <td>Dune Entertainment, Lightstorm Entertainment, ...</td>\n",
       "      <td>United States of America, United Kingdom</td>\n",
       "      <td>English, Spanish</td>\n",
       "      <td>future, society, culture clash, space travel, ...</td>\n",
       "      <td>James Cameron</td>\n",
       "      <td>James Cameron</td>\n",
       "      <td>7.9</td>\n",
       "      <td>1431576</td>\n",
       "      <td>Sam Worthington, Zoe Saldaña, Sigourney Weaver...</td>\n",
       "    </tr>\n",
       "    <tr>\n",
       "      <th>4</th>\n",
       "      <td>24428</td>\n",
       "      <td>The Avengers</td>\n",
       "      <td>7.710</td>\n",
       "      <td>29166</td>\n",
       "      <td>Released</td>\n",
       "      <td>2012-04-25</td>\n",
       "      <td>1518815515</td>\n",
       "      <td>143</td>\n",
       "      <td>False</td>\n",
       "      <td>/9BBTo63ANSmhC4e6r62OJFuK2GL.jpg</td>\n",
       "      <td>...</td>\n",
       "      <td>Science Fiction, Action, Adventure</td>\n",
       "      <td>Marvel Studios</td>\n",
       "      <td>United States of America</td>\n",
       "      <td>English, Hindi, Russian</td>\n",
       "      <td>new york city, superhero, shield, based on com...</td>\n",
       "      <td>Joss Whedon</td>\n",
       "      <td>Joss Whedon, Zak Penn</td>\n",
       "      <td>8.0</td>\n",
       "      <td>1508926</td>\n",
       "      <td>Robert Downey Jr., Chris Evans, Mark Ruffalo, ...</td>\n",
       "    </tr>\n",
       "  </tbody>\n",
       "</table>\n",
       "<p>5 rows × 29 columns</p>\n",
       "</div>"
      ],
      "text/plain": [
       "       id            title  vote_average  vote_count    status release_date  \\\n",
       "0   27205        Inception         8.364       34495  Released   2010-07-15   \n",
       "1  157336     Interstellar         8.417       32571  Released   2014-11-05   \n",
       "2     155  The Dark Knight         8.512       30619  Released   2008-07-16   \n",
       "3   19995           Avatar         7.573       29815  Released   2009-12-15   \n",
       "4   24428     The Avengers         7.710       29166  Released   2012-04-25   \n",
       "\n",
       "      revenue  runtime  adult                     backdrop_path  ...  \\\n",
       "0   825532764      148  False  /8ZTVqvKDQ8emSGUEMjsS4yHAwrp.jpg  ...   \n",
       "1   701729206      169  False  /pbrkL804c8yAv3zBZR4QPEafpAR.jpg  ...   \n",
       "2  1004558444      152  False  /nMKdUUepR0i5zn0y1T4CsSB5chy.jpg  ...   \n",
       "3  2923706026      162  False  /vL5LR6WdxWPjLPFRLe133jXWsh5.jpg  ...   \n",
       "4  1518815515      143  False  /9BBTo63ANSmhC4e6r62OJFuK2GL.jpg  ...   \n",
       "\n",
       "                                        genres  \\\n",
       "0           Action, Science Fiction, Adventure   \n",
       "1            Adventure, Drama, Science Fiction   \n",
       "2               Drama, Action, Crime, Thriller   \n",
       "3  Action, Adventure, Fantasy, Science Fiction   \n",
       "4           Science Fiction, Action, Adventure   \n",
       "\n",
       "                                production_companies  \\\n",
       "0  Legendary Pictures, Syncopy, Warner Bros. Pict...   \n",
       "1  Legendary Pictures, Syncopy, Lynda Obst Produc...   \n",
       "2  DC Comics, Legendary Pictures, Syncopy, Isobel...   \n",
       "3  Dune Entertainment, Lightstorm Entertainment, ...   \n",
       "4                                     Marvel Studios   \n",
       "\n",
       "                       production_countries  \\\n",
       "0  United Kingdom, United States of America   \n",
       "1  United Kingdom, United States of America   \n",
       "2  United Kingdom, United States of America   \n",
       "3  United States of America, United Kingdom   \n",
       "4                  United States of America   \n",
       "\n",
       "                     spoken_languages  \\\n",
       "0  English, French, Japanese, Swahili   \n",
       "1                             English   \n",
       "2                   English, Mandarin   \n",
       "3                    English, Spanish   \n",
       "4             English, Hindi, Russian   \n",
       "\n",
       "                                            keywords          directors  \\\n",
       "0  rescue, mission, dream, airplane, paris, franc...  Christopher Nolan   \n",
       "1  rescue, future, spacecraft, race against time,...  Christopher Nolan   \n",
       "2  joker, sadism, chaos, secret identity, crime f...  Christopher Nolan   \n",
       "3  future, society, culture clash, space travel, ...      James Cameron   \n",
       "4  new york city, superhero, shield, based on com...        Joss Whedon   \n",
       "\n",
       "                                             writers averageRating numVotes  \\\n",
       "0                                  Christopher Nolan           8.8  2684780   \n",
       "1                  Jonathan Nolan, Christopher Nolan           8.7  2346977   \n",
       "2  Jonathan Nolan, Christopher Nolan, David S. Go...           9.0  3022443   \n",
       "3                                      James Cameron           7.9  1431576   \n",
       "4                              Joss Whedon, Zak Penn           8.0  1508926   \n",
       "\n",
       "                                                cast  \n",
       "0  Leonardo DiCaprio, Joseph Gordon-Levitt, Ken W...  \n",
       "1  Matthew McConaughey, Anne Hathaway, Michael Ca...  \n",
       "2  Christian Bale, Heath Ledger, Aaron Eckhart, M...  \n",
       "3  Sam Worthington, Zoe Saldaña, Sigourney Weaver...  \n",
       "4  Robert Downey Jr., Chris Evans, Mark Ruffalo, ...  \n",
       "\n",
       "[5 rows x 29 columns]"
      ]
     },
     "execution_count": 9,
     "metadata": {},
     "output_type": "execute_result"
    }
   ],
   "source": [
    "# first 5 movies data\n",
    "movies.head()"
   ]
  },
  {
   "cell_type": "code",
   "execution_count": 10,
   "metadata": {
    "colab": {
     "base_uri": "https://localhost:8080/",
     "height": 603
    },
    "executionInfo": {
     "elapsed": 34,
     "status": "ok",
     "timestamp": 1760444664472,
     "user": {
      "displayName": "Shakib Ahmed",
      "userId": "10423576209203003437"
     },
     "user_tz": -360
    },
    "id": "7PxE2EEBHNsf",
    "outputId": "503b1285-68f7-4ef1-c2df-d671c9c177ea"
   },
   "outputs": [
    {
     "data": {
      "application/vnd.microsoft.datawrangler.viewer.v0+json": {
       "columns": [
        {
         "name": "index",
         "rawType": "int64",
         "type": "integer"
        },
        {
         "name": "id",
         "rawType": "int64",
         "type": "integer"
        },
        {
         "name": "title",
         "rawType": "object",
         "type": "string"
        },
        {
         "name": "vote_average",
         "rawType": "float64",
         "type": "float"
        },
        {
         "name": "vote_count",
         "rawType": "int64",
         "type": "integer"
        },
        {
         "name": "status",
         "rawType": "object",
         "type": "string"
        },
        {
         "name": "release_date",
         "rawType": "object",
         "type": "unknown"
        },
        {
         "name": "revenue",
         "rawType": "int64",
         "type": "integer"
        },
        {
         "name": "runtime",
         "rawType": "int64",
         "type": "integer"
        },
        {
         "name": "adult",
         "rawType": "bool",
         "type": "boolean"
        },
        {
         "name": "backdrop_path",
         "rawType": "object",
         "type": "unknown"
        },
        {
         "name": "budget",
         "rawType": "int64",
         "type": "integer"
        },
        {
         "name": "homepage",
         "rawType": "object",
         "type": "unknown"
        },
        {
         "name": "tconst",
         "rawType": "object",
         "type": "string"
        },
        {
         "name": "original_language",
         "rawType": "object",
         "type": "string"
        },
        {
         "name": "original_title",
         "rawType": "object",
         "type": "string"
        },
        {
         "name": "overview",
         "rawType": "object",
         "type": "unknown"
        },
        {
         "name": "popularity",
         "rawType": "float64",
         "type": "float"
        },
        {
         "name": "poster_path",
         "rawType": "object",
         "type": "unknown"
        },
        {
         "name": "tagline",
         "rawType": "object",
         "type": "unknown"
        },
        {
         "name": "genres",
         "rawType": "object",
         "type": "unknown"
        },
        {
         "name": "production_companies",
         "rawType": "object",
         "type": "unknown"
        },
        {
         "name": "production_countries",
         "rawType": "object",
         "type": "unknown"
        },
        {
         "name": "spoken_languages",
         "rawType": "object",
         "type": "unknown"
        },
        {
         "name": "keywords",
         "rawType": "object",
         "type": "unknown"
        },
        {
         "name": "directors",
         "rawType": "object",
         "type": "string"
        },
        {
         "name": "writers",
         "rawType": "object",
         "type": "unknown"
        },
        {
         "name": "averageRating",
         "rawType": "float64",
         "type": "float"
        },
        {
         "name": "numVotes",
         "rawType": "int64",
         "type": "integer"
        },
        {
         "name": "cast",
         "rawType": "object",
         "type": "unknown"
        }
       ],
       "ref": "eaf41981-a4f3-430b-b362-75da25ff1c4d",
       "rows": [
        [
         "434432",
         "778129",
         "A Real Adventure",
         "0.0",
         "0",
         "Released",
         "2018-04-27",
         "0",
         "16",
         "False",
         null,
         "0",
         null,
         "tt7167812",
         "en",
         "A Real Adventure",
         "A Son's first visit to his Father in prison unearths a lifetime of empty promises.",
         "0.6",
         null,
         null,
         null,
         null,
         null,
         null,
         null,
         "Josh Zuckerman",
         "Josh Zuckerman",
         "7.3",
         "22",
         null
        ],
        [
         "434433",
         "778133",
         "The Cloister’s Touch",
         "0.0",
         "0",
         "Released",
         "1910-01-31",
         "0",
         "0",
         "False",
         null,
         "0",
         null,
         "tt0001156",
         "en",
         "The Cloister’s Touch",
         "A peasant family comprising the father, mother and little boy child are happy in their own sphere until one day several courtiers of a hunting party stopped at the humble home for refreshments. The men are particularly struck with the beauty of the young wife, and as their Duke is in the depths of boredom they suggest carrying her off to court. However, they think it best to first consult the Duke, who in the extreme of ennui, is most agreeable to the plans. Hence, the poor wife is torn from her husband and child and taken to court to be made a lady by the Duke.",
         "0.6",
         null,
         null,
         null,
         null,
         null,
         null,
         null,
         "D.W. Griffith",
         "Stanner E.V. Taylor",
         "5.0",
         "57",
         "Henry B. Walthall, Marion Leonard"
        ],
        [
         "434434",
         "778152",
         "Hands of God",
         "0.0",
         "0",
         "Released",
         "2020-07-07",
         "0",
         "85",
         "False",
         null,
         "0",
         "https://www.filmmovement.com/press/film/hands-of-god",
         "tt5021208",
         "ar",
         "Hands of God",
         "Thirteen years of war. Dozens of car bombings every month. One goal: to become an Olympic champion. The true story of grit and determination, of young men literally fighting for their lives one day on the battlefields of Iraq and competing to fight for their Nation the next one. Despite living under the persistent threat of ISIS, these athletes will strive to accomplish their task. The amazing journey of the Iraq National Team from obscurity and desperation to the edge of an historical qualification to Rio 2016. Will private Waheed be able to manage his army duty with his desire to go to the Games? Is young Jafaar ready to aspire to the Olympic stage he has been dreaming of, despite living in the most dangerous suburb in the world? Will promising heavyweight Saadi come back from his mission to liberate Falluja? Will Iraq finally be a peaceful Country?",
         "0.605",
         "/gz861IIylDwTtSP9xWWtTEairTI.jpg",
         "The True Story of the Iraqi Olympic Boxing Team",
         "Documentary",
         null,
         null,
         null,
         "olympian sports team, iraq, sports documentary, social documentary",
         "Riccardo Romani",
         null,
         "6.6",
         "22",
         null
        ],
        [
         "434435",
         "778156",
         "Ariane",
         "0.0",
         "0",
         "Released",
         null,
         "0",
         "0",
         "False",
         null,
         "100",
         null,
         "tt11078360",
         "nb",
         "Ariane",
         null,
         "0.6",
         "/nEf8euzXkrN8iR6vKmteq4KJTne.jpg",
         null,
         null,
         null,
         null,
         "Norwegian Bokmål",
         null,
         "Carl August Klevjer",
         "Sondre H. Johansen, Mathias Bøe Jansen, Carl August Klevjer, Olav Andreas Strøm-Hval",
         "8.7",
         "6",
         "Helene Nagel, Herman Taksrud Berg"
        ],
        [
         "434436",
         "778157",
         "Johnny Cash: The Man in Black in Britain",
         "0.0",
         "0",
         "Released",
         "2020-11-22",
         "0",
         "57",
         "False",
         null,
         "0",
         null,
         "tt15264442",
         "en",
         "Johnny Cash: The Man in Black in Britain",
         "Documentary examining the unique connections the singer shared with Britain, and what made the UK such a sanctuary for him. The programme features contributions from some of those who were closest to him, from his own children to friend Elvis Costello, as well as celebrity fans including Jools Holland and Freddie Flintoff.",
         "0.815",
         "/74VfDO9qgxeTEAahZtqpN7fUTHk.jpg",
         null,
         "Documentary, Music",
         "Lonesome Pine Productions, Channel 5",
         "United Kingdom",
         "English",
         null,
         "Nigel Cole",
         null,
         "8.0",
         "6",
         "Johnny Cash, June Carter Cash, Joanne Cash Yates, John Carter Cash, Rosanne Cash, Jools Holland, Peter Gabriel, Elvis Costello, Johnnie Walker, Andy Williams"
        ]
       ],
       "shape": {
        "columns": 29,
        "rows": 5
       }
      },
      "text/html": [
       "<div>\n",
       "<style scoped>\n",
       "    .dataframe tbody tr th:only-of-type {\n",
       "        vertical-align: middle;\n",
       "    }\n",
       "\n",
       "    .dataframe tbody tr th {\n",
       "        vertical-align: top;\n",
       "    }\n",
       "\n",
       "    .dataframe thead th {\n",
       "        text-align: right;\n",
       "    }\n",
       "</style>\n",
       "<table border=\"1\" class=\"dataframe\">\n",
       "  <thead>\n",
       "    <tr style=\"text-align: right;\">\n",
       "      <th></th>\n",
       "      <th>id</th>\n",
       "      <th>title</th>\n",
       "      <th>vote_average</th>\n",
       "      <th>vote_count</th>\n",
       "      <th>status</th>\n",
       "      <th>release_date</th>\n",
       "      <th>revenue</th>\n",
       "      <th>runtime</th>\n",
       "      <th>adult</th>\n",
       "      <th>backdrop_path</th>\n",
       "      <th>...</th>\n",
       "      <th>genres</th>\n",
       "      <th>production_companies</th>\n",
       "      <th>production_countries</th>\n",
       "      <th>spoken_languages</th>\n",
       "      <th>keywords</th>\n",
       "      <th>directors</th>\n",
       "      <th>writers</th>\n",
       "      <th>averageRating</th>\n",
       "      <th>numVotes</th>\n",
       "      <th>cast</th>\n",
       "    </tr>\n",
       "  </thead>\n",
       "  <tbody>\n",
       "    <tr>\n",
       "      <th>434432</th>\n",
       "      <td>778129</td>\n",
       "      <td>A Real Adventure</td>\n",
       "      <td>0.0</td>\n",
       "      <td>0</td>\n",
       "      <td>Released</td>\n",
       "      <td>2018-04-27</td>\n",
       "      <td>0</td>\n",
       "      <td>16</td>\n",
       "      <td>False</td>\n",
       "      <td>NaN</td>\n",
       "      <td>...</td>\n",
       "      <td>NaN</td>\n",
       "      <td>NaN</td>\n",
       "      <td>NaN</td>\n",
       "      <td>NaN</td>\n",
       "      <td>NaN</td>\n",
       "      <td>Josh Zuckerman</td>\n",
       "      <td>Josh Zuckerman</td>\n",
       "      <td>7.3</td>\n",
       "      <td>22</td>\n",
       "      <td>NaN</td>\n",
       "    </tr>\n",
       "    <tr>\n",
       "      <th>434433</th>\n",
       "      <td>778133</td>\n",
       "      <td>The Cloister’s Touch</td>\n",
       "      <td>0.0</td>\n",
       "      <td>0</td>\n",
       "      <td>Released</td>\n",
       "      <td>1910-01-31</td>\n",
       "      <td>0</td>\n",
       "      <td>0</td>\n",
       "      <td>False</td>\n",
       "      <td>NaN</td>\n",
       "      <td>...</td>\n",
       "      <td>NaN</td>\n",
       "      <td>NaN</td>\n",
       "      <td>NaN</td>\n",
       "      <td>NaN</td>\n",
       "      <td>NaN</td>\n",
       "      <td>D.W. Griffith</td>\n",
       "      <td>Stanner E.V. Taylor</td>\n",
       "      <td>5.0</td>\n",
       "      <td>57</td>\n",
       "      <td>Henry B. Walthall, Marion Leonard</td>\n",
       "    </tr>\n",
       "    <tr>\n",
       "      <th>434434</th>\n",
       "      <td>778152</td>\n",
       "      <td>Hands of God</td>\n",
       "      <td>0.0</td>\n",
       "      <td>0</td>\n",
       "      <td>Released</td>\n",
       "      <td>2020-07-07</td>\n",
       "      <td>0</td>\n",
       "      <td>85</td>\n",
       "      <td>False</td>\n",
       "      <td>NaN</td>\n",
       "      <td>...</td>\n",
       "      <td>Documentary</td>\n",
       "      <td>NaN</td>\n",
       "      <td>NaN</td>\n",
       "      <td>NaN</td>\n",
       "      <td>olympian sports team, iraq, sports documentary...</td>\n",
       "      <td>Riccardo Romani</td>\n",
       "      <td>NaN</td>\n",
       "      <td>6.6</td>\n",
       "      <td>22</td>\n",
       "      <td>NaN</td>\n",
       "    </tr>\n",
       "    <tr>\n",
       "      <th>434435</th>\n",
       "      <td>778156</td>\n",
       "      <td>Ariane</td>\n",
       "      <td>0.0</td>\n",
       "      <td>0</td>\n",
       "      <td>Released</td>\n",
       "      <td>NaN</td>\n",
       "      <td>0</td>\n",
       "      <td>0</td>\n",
       "      <td>False</td>\n",
       "      <td>NaN</td>\n",
       "      <td>...</td>\n",
       "      <td>NaN</td>\n",
       "      <td>NaN</td>\n",
       "      <td>NaN</td>\n",
       "      <td>Norwegian Bokmål</td>\n",
       "      <td>NaN</td>\n",
       "      <td>Carl August Klevjer</td>\n",
       "      <td>Sondre H. Johansen, Mathias Bøe Jansen, Carl A...</td>\n",
       "      <td>8.7</td>\n",
       "      <td>6</td>\n",
       "      <td>Helene Nagel, Herman Taksrud Berg</td>\n",
       "    </tr>\n",
       "    <tr>\n",
       "      <th>434436</th>\n",
       "      <td>778157</td>\n",
       "      <td>Johnny Cash: The Man in Black in Britain</td>\n",
       "      <td>0.0</td>\n",
       "      <td>0</td>\n",
       "      <td>Released</td>\n",
       "      <td>2020-11-22</td>\n",
       "      <td>0</td>\n",
       "      <td>57</td>\n",
       "      <td>False</td>\n",
       "      <td>NaN</td>\n",
       "      <td>...</td>\n",
       "      <td>Documentary, Music</td>\n",
       "      <td>Lonesome Pine Productions, Channel 5</td>\n",
       "      <td>United Kingdom</td>\n",
       "      <td>English</td>\n",
       "      <td>NaN</td>\n",
       "      <td>Nigel Cole</td>\n",
       "      <td>NaN</td>\n",
       "      <td>8.0</td>\n",
       "      <td>6</td>\n",
       "      <td>Johnny Cash, June Carter Cash, Joanne Cash Yat...</td>\n",
       "    </tr>\n",
       "  </tbody>\n",
       "</table>\n",
       "<p>5 rows × 29 columns</p>\n",
       "</div>"
      ],
      "text/plain": [
       "            id                                     title  vote_average  \\\n",
       "434432  778129                          A Real Adventure           0.0   \n",
       "434433  778133                      The Cloister’s Touch           0.0   \n",
       "434434  778152                              Hands of God           0.0   \n",
       "434435  778156                                    Ariane           0.0   \n",
       "434436  778157  Johnny Cash: The Man in Black in Britain           0.0   \n",
       "\n",
       "        vote_count    status release_date  revenue  runtime  adult  \\\n",
       "434432           0  Released   2018-04-27        0       16  False   \n",
       "434433           0  Released   1910-01-31        0        0  False   \n",
       "434434           0  Released   2020-07-07        0       85  False   \n",
       "434435           0  Released          NaN        0        0  False   \n",
       "434436           0  Released   2020-11-22        0       57  False   \n",
       "\n",
       "       backdrop_path  ...              genres  \\\n",
       "434432           NaN  ...                 NaN   \n",
       "434433           NaN  ...                 NaN   \n",
       "434434           NaN  ...         Documentary   \n",
       "434435           NaN  ...                 NaN   \n",
       "434436           NaN  ...  Documentary, Music   \n",
       "\n",
       "                        production_companies production_countries  \\\n",
       "434432                                   NaN                  NaN   \n",
       "434433                                   NaN                  NaN   \n",
       "434434                                   NaN                  NaN   \n",
       "434435                                   NaN                  NaN   \n",
       "434436  Lonesome Pine Productions, Channel 5       United Kingdom   \n",
       "\n",
       "        spoken_languages                                           keywords  \\\n",
       "434432               NaN                                                NaN   \n",
       "434433               NaN                                                NaN   \n",
       "434434               NaN  olympian sports team, iraq, sports documentary...   \n",
       "434435  Norwegian Bokmål                                                NaN   \n",
       "434436           English                                                NaN   \n",
       "\n",
       "                  directors  \\\n",
       "434432       Josh Zuckerman   \n",
       "434433        D.W. Griffith   \n",
       "434434      Riccardo Romani   \n",
       "434435  Carl August Klevjer   \n",
       "434436           Nigel Cole   \n",
       "\n",
       "                                                  writers averageRating  \\\n",
       "434432                                     Josh Zuckerman           7.3   \n",
       "434433                                Stanner E.V. Taylor           5.0   \n",
       "434434                                                NaN           6.6   \n",
       "434435  Sondre H. Johansen, Mathias Bøe Jansen, Carl A...           8.7   \n",
       "434436                                                NaN           8.0   \n",
       "\n",
       "       numVotes                                               cast  \n",
       "434432       22                                                NaN  \n",
       "434433       57                  Henry B. Walthall, Marion Leonard  \n",
       "434434       22                                                NaN  \n",
       "434435        6                  Helene Nagel, Herman Taksrud Berg  \n",
       "434436        6  Johnny Cash, June Carter Cash, Joanne Cash Yat...  \n",
       "\n",
       "[5 rows x 29 columns]"
      ]
     },
     "execution_count": 10,
     "metadata": {},
     "output_type": "execute_result"
    }
   ],
   "source": [
    "# last 5 movies data\n",
    "movies.tail()"
   ]
  },
  {
   "cell_type": "code",
   "execution_count": 11,
   "metadata": {
    "colab": {
     "base_uri": "https://localhost:8080/"
    },
    "executionInfo": {
     "elapsed": 894,
     "status": "ok",
     "timestamp": 1760444665372,
     "user": {
      "displayName": "Shakib Ahmed",
      "userId": "10423576209203003437"
     },
     "user_tz": -360
    },
    "id": "OcvKzf17xJXX",
    "outputId": "cf969c9e-2e20-4215-9048-4739c5945031"
   },
   "outputs": [
    {
     "name": "stdout",
     "output_type": "stream",
     "text": [
      "<class 'pandas.core.frame.DataFrame'>\n",
      "RangeIndex: 434437 entries, 0 to 434436\n",
      "Data columns (total 29 columns):\n",
      " #   Column                Non-Null Count   Dtype  \n",
      "---  ------                --------------   -----  \n",
      " 0   id                    434437 non-null  int64  \n",
      " 1   title                 434437 non-null  object \n",
      " 2   vote_average          434437 non-null  float64\n",
      " 3   vote_count            434437 non-null  int64  \n",
      " 4   status                434437 non-null  object \n",
      " 5   release_date          415357 non-null  object \n",
      " 6   revenue               434437 non-null  int64  \n",
      " 7   runtime               434437 non-null  int64  \n",
      " 8   adult                 434437 non-null  bool   \n",
      " 9   backdrop_path         184278 non-null  object \n",
      " 10  budget                434437 non-null  int64  \n",
      " 11  homepage              54333 non-null   object \n",
      " 12  tconst                434437 non-null  object \n",
      " 13  original_language     434437 non-null  object \n",
      " 14  original_title        434437 non-null  object \n",
      " 15  overview              392556 non-null  object \n",
      " 16  popularity            434437 non-null  float64\n",
      " 17  poster_path           359483 non-null  object \n",
      " 18  tagline               91392 non-null   object \n",
      " 19  genres                356256 non-null  object \n",
      " 20  production_companies  262412 non-null  object \n",
      " 21  production_countries  321649 non-null  object \n",
      " 22  spoken_languages      332018 non-null  object \n",
      " 23  keywords              170762 non-null  object \n",
      " 24  directors             424174 non-null  object \n",
      " 25  writers               367909 non-null  object \n",
      " 26  averageRating         434437 non-null  float64\n",
      " 27  numVotes              434437 non-null  int64  \n",
      " 28  cast                  365859 non-null  object \n",
      "dtypes: bool(1), float64(3), int64(6), object(19)\n",
      "memory usage: 93.2+ MB\n"
     ]
    }
   ],
   "source": [
    "# information of the movies dataset\n",
    "movies.info()"
   ]
  },
  {
   "cell_type": "code",
   "execution_count": 12,
   "metadata": {
    "id": "SWC6E8SmfGYn"
   },
   "outputs": [],
   "source": [
    "# selecting the most important columns which are relevant for the recommendation system\n",
    "\n",
    "requriedColumns = ['title', 'genres', 'keywords', 'cast', 'directors', 'original_language', 'writers', 'overview']"
   ]
  },
  {
   "cell_type": "code",
   "execution_count": 13,
   "metadata": {
    "id": "w5nTtGnr4ZI7"
   },
   "outputs": [],
   "source": [
    "movies = movies[requriedColumns]"
   ]
  },
  {
   "cell_type": "code",
   "execution_count": 14,
   "metadata": {
    "colab": {
     "base_uri": "https://localhost:8080/",
     "height": 293
    },
    "executionInfo": {
     "elapsed": 32,
     "status": "ok",
     "timestamp": 1760444665504,
     "user": {
      "displayName": "Shakib Ahmed",
      "userId": "10423576209203003437"
     },
     "user_tz": -360
    },
    "id": "a7dlUl2i4mh8",
    "outputId": "ffbe453c-bdfc-4148-fc29-1488cb0d4cd8"
   },
   "outputs": [
    {
     "data": {
      "application/vnd.microsoft.datawrangler.viewer.v0+json": {
       "columns": [
        {
         "name": "index",
         "rawType": "int64",
         "type": "integer"
        },
        {
         "name": "title",
         "rawType": "object",
         "type": "string"
        },
        {
         "name": "genres",
         "rawType": "object",
         "type": "string"
        },
        {
         "name": "keywords",
         "rawType": "object",
         "type": "string"
        },
        {
         "name": "cast",
         "rawType": "object",
         "type": "string"
        },
        {
         "name": "directors",
         "rawType": "object",
         "type": "string"
        },
        {
         "name": "original_language",
         "rawType": "object",
         "type": "string"
        },
        {
         "name": "writers",
         "rawType": "object",
         "type": "string"
        },
        {
         "name": "overview",
         "rawType": "object",
         "type": "string"
        }
       ],
       "ref": "e8ebab65-b344-407a-afe8-05fe75795a65",
       "rows": [
        [
         "0",
         "Inception",
         "Action, Science Fiction, Adventure",
         "rescue, mission, dream, airplane, paris, france, virtual reality, kidnapping, philosophy, spy, allegory, manipulation, car crash, heist, memory, architecture, los angeles, california, dream world, subconscious",
         "Leonardo DiCaprio, Joseph Gordon-Levitt, Ken Watanabe, Tom Hardy, Elliot Page, Dileep Rao, Cillian Murphy, Tom Berenger, Marion Cotillard, Pete Postlethwaite",
         "Christopher Nolan",
         "en",
         "Christopher Nolan",
         "Cobb, a skilled thief who commits corporate espionage by infiltrating the subconscious of his targets is offered a chance to regain his old life as payment for a task considered to be impossible: \"inception\", the implantation of another person's idea into a target's subconscious."
        ],
        [
         "1",
         "Interstellar",
         "Adventure, Drama, Science Fiction",
         "rescue, future, spacecraft, race against time, artificial intelligence (a.i.), nasa, time warp, dystopia, expedition, space travel, wormhole, famine, black hole, quantum mechanics, family relationships, space, robot, astronaut, scientist, single father, farmer, space station, curious, space adventure, time paradox, thoughtful, time-manipulation, father daughter relationship, 2060s, cornfield, time manipulation, complicated",
         "Matthew McConaughey, Anne Hathaway, Michael Caine, Jessica Chastain, Casey Affleck, Wes Bentley, Topher Grace, Mackenzie Foy, Ellen Burstyn, John Lithgow",
         "Christopher Nolan",
         "en",
         "Jonathan Nolan, Christopher Nolan",
         "The adventures of a group of explorers who make use of a newly discovered wormhole to surpass the limitations on human space travel and conquer the vast distances involved in an interstellar voyage."
        ],
        [
         "2",
         "The Dark Knight",
         "Drama, Action, Crime, Thriller",
         "joker, sadism, chaos, secret identity, crime fighter, superhero, anti hero, scarecrow, based on comic, vigilante, organized crime, tragic hero, anti villain, criminal mastermind, district attorney, super power, super villain, neo-noir",
         "Christian Bale, Heath Ledger, Aaron Eckhart, Michael Caine, Maggie Gyllenhaal, Gary Oldman, Morgan Freeman, Monique Gabriela Curnen, Ron Dean, Cillian Murphy",
         "Christopher Nolan",
         "en",
         "Jonathan Nolan, Christopher Nolan, David S. Goyer, Bob Kane",
         "Batman raises the stakes in his war on crime. With the help of Lt. Jim Gordon and District Attorney Harvey Dent, Batman sets out to dismantle the remaining criminal organizations that plague the streets. The partnership proves to be effective, but they soon find themselves prey to a reign of chaos unleashed by a rising criminal mastermind known to the terrified citizens of Gotham as the Joker."
        ],
        [
         "3",
         "Avatar",
         "Action, Adventure, Fantasy, Science Fiction",
         "future, society, culture clash, space travel, space war, space colony, tribe, romance, alien, futuristic, space, alien planet, marine, soldier, battle, love affair, nature, anti war, power relations, joyful",
         "Sam Worthington, Zoe Saldaña, Sigourney Weaver, Stephen Lang, Michelle Rodriguez, Giovanni Ribisi, Joel David Moore, CCH Pounder, Wes Studi, Laz Alonso",
         "James Cameron",
         "en",
         "James Cameron",
         "In the 22nd century, a paraplegic Marine is dispatched to the moon Pandora on a unique mission, but becomes torn between following orders and protecting an alien civilization."
        ],
        [
         "4",
         "The Avengers",
         "Science Fiction, Action, Adventure",
         "new york city, superhero, shield, based on comic, alien invasion, superhero team, aftercreditsstinger, duringcreditsstinger, marvel cinematic universe (mcu)",
         "Robert Downey Jr., Chris Evans, Mark Ruffalo, Chris Hemsworth, Scarlett Johansson, Jeremy Renner, Tom Hiddleston, Clark Gregg, Cobie Smulders, Stellan Skarsgård",
         "Joss Whedon",
         "en",
         "Joss Whedon, Zak Penn",
         "When an unexpected enemy emerges and threatens global safety and security, Nick Fury, director of the international peacekeeping agency known as S.H.I.E.L.D., finds himself in need of a team to pull the world back from the brink of disaster. Spanning the globe, a daring recruitment effort begins!"
        ]
       ],
       "shape": {
        "columns": 8,
        "rows": 5
       }
      },
      "text/html": [
       "<div>\n",
       "<style scoped>\n",
       "    .dataframe tbody tr th:only-of-type {\n",
       "        vertical-align: middle;\n",
       "    }\n",
       "\n",
       "    .dataframe tbody tr th {\n",
       "        vertical-align: top;\n",
       "    }\n",
       "\n",
       "    .dataframe thead th {\n",
       "        text-align: right;\n",
       "    }\n",
       "</style>\n",
       "<table border=\"1\" class=\"dataframe\">\n",
       "  <thead>\n",
       "    <tr style=\"text-align: right;\">\n",
       "      <th></th>\n",
       "      <th>title</th>\n",
       "      <th>genres</th>\n",
       "      <th>keywords</th>\n",
       "      <th>cast</th>\n",
       "      <th>directors</th>\n",
       "      <th>original_language</th>\n",
       "      <th>writers</th>\n",
       "      <th>overview</th>\n",
       "    </tr>\n",
       "  </thead>\n",
       "  <tbody>\n",
       "    <tr>\n",
       "      <th>0</th>\n",
       "      <td>Inception</td>\n",
       "      <td>Action, Science Fiction, Adventure</td>\n",
       "      <td>rescue, mission, dream, airplane, paris, franc...</td>\n",
       "      <td>Leonardo DiCaprio, Joseph Gordon-Levitt, Ken W...</td>\n",
       "      <td>Christopher Nolan</td>\n",
       "      <td>en</td>\n",
       "      <td>Christopher Nolan</td>\n",
       "      <td>Cobb, a skilled thief who commits corporate es...</td>\n",
       "    </tr>\n",
       "    <tr>\n",
       "      <th>1</th>\n",
       "      <td>Interstellar</td>\n",
       "      <td>Adventure, Drama, Science Fiction</td>\n",
       "      <td>rescue, future, spacecraft, race against time,...</td>\n",
       "      <td>Matthew McConaughey, Anne Hathaway, Michael Ca...</td>\n",
       "      <td>Christopher Nolan</td>\n",
       "      <td>en</td>\n",
       "      <td>Jonathan Nolan, Christopher Nolan</td>\n",
       "      <td>The adventures of a group of explorers who mak...</td>\n",
       "    </tr>\n",
       "    <tr>\n",
       "      <th>2</th>\n",
       "      <td>The Dark Knight</td>\n",
       "      <td>Drama, Action, Crime, Thriller</td>\n",
       "      <td>joker, sadism, chaos, secret identity, crime f...</td>\n",
       "      <td>Christian Bale, Heath Ledger, Aaron Eckhart, M...</td>\n",
       "      <td>Christopher Nolan</td>\n",
       "      <td>en</td>\n",
       "      <td>Jonathan Nolan, Christopher Nolan, David S. Go...</td>\n",
       "      <td>Batman raises the stakes in his war on crime. ...</td>\n",
       "    </tr>\n",
       "    <tr>\n",
       "      <th>3</th>\n",
       "      <td>Avatar</td>\n",
       "      <td>Action, Adventure, Fantasy, Science Fiction</td>\n",
       "      <td>future, society, culture clash, space travel, ...</td>\n",
       "      <td>Sam Worthington, Zoe Saldaña, Sigourney Weaver...</td>\n",
       "      <td>James Cameron</td>\n",
       "      <td>en</td>\n",
       "      <td>James Cameron</td>\n",
       "      <td>In the 22nd century, a paraplegic Marine is di...</td>\n",
       "    </tr>\n",
       "    <tr>\n",
       "      <th>4</th>\n",
       "      <td>The Avengers</td>\n",
       "      <td>Science Fiction, Action, Adventure</td>\n",
       "      <td>new york city, superhero, shield, based on com...</td>\n",
       "      <td>Robert Downey Jr., Chris Evans, Mark Ruffalo, ...</td>\n",
       "      <td>Joss Whedon</td>\n",
       "      <td>en</td>\n",
       "      <td>Joss Whedon, Zak Penn</td>\n",
       "      <td>When an unexpected enemy emerges and threatens...</td>\n",
       "    </tr>\n",
       "  </tbody>\n",
       "</table>\n",
       "</div>"
      ],
      "text/plain": [
       "             title                                       genres  \\\n",
       "0        Inception           Action, Science Fiction, Adventure   \n",
       "1     Interstellar            Adventure, Drama, Science Fiction   \n",
       "2  The Dark Knight               Drama, Action, Crime, Thriller   \n",
       "3           Avatar  Action, Adventure, Fantasy, Science Fiction   \n",
       "4     The Avengers           Science Fiction, Action, Adventure   \n",
       "\n",
       "                                            keywords  \\\n",
       "0  rescue, mission, dream, airplane, paris, franc...   \n",
       "1  rescue, future, spacecraft, race against time,...   \n",
       "2  joker, sadism, chaos, secret identity, crime f...   \n",
       "3  future, society, culture clash, space travel, ...   \n",
       "4  new york city, superhero, shield, based on com...   \n",
       "\n",
       "                                                cast          directors  \\\n",
       "0  Leonardo DiCaprio, Joseph Gordon-Levitt, Ken W...  Christopher Nolan   \n",
       "1  Matthew McConaughey, Anne Hathaway, Michael Ca...  Christopher Nolan   \n",
       "2  Christian Bale, Heath Ledger, Aaron Eckhart, M...  Christopher Nolan   \n",
       "3  Sam Worthington, Zoe Saldaña, Sigourney Weaver...      James Cameron   \n",
       "4  Robert Downey Jr., Chris Evans, Mark Ruffalo, ...        Joss Whedon   \n",
       "\n",
       "  original_language                                            writers  \\\n",
       "0                en                                  Christopher Nolan   \n",
       "1                en                  Jonathan Nolan, Christopher Nolan   \n",
       "2                en  Jonathan Nolan, Christopher Nolan, David S. Go...   \n",
       "3                en                                      James Cameron   \n",
       "4                en                              Joss Whedon, Zak Penn   \n",
       "\n",
       "                                            overview  \n",
       "0  Cobb, a skilled thief who commits corporate es...  \n",
       "1  The adventures of a group of explorers who mak...  \n",
       "2  Batman raises the stakes in his war on crime. ...  \n",
       "3  In the 22nd century, a paraplegic Marine is di...  \n",
       "4  When an unexpected enemy emerges and threatens...  "
      ]
     },
     "execution_count": 14,
     "metadata": {},
     "output_type": "execute_result"
    }
   ],
   "source": [
    "movies.head(5)"
   ]
  },
  {
   "cell_type": "code",
   "execution_count": 15,
   "metadata": {
    "colab": {
     "base_uri": "https://localhost:8080/"
    },
    "executionInfo": {
     "elapsed": 402,
     "status": "ok",
     "timestamp": 1760444665907,
     "user": {
      "displayName": "Shakib Ahmed",
      "userId": "10423576209203003437"
     },
     "user_tz": -360
    },
    "id": "QI5v4QgD4w9a",
    "outputId": "ec14aa7d-983d-480c-89c6-aa32c891e9fe"
   },
   "outputs": [
    {
     "data": {
      "text/plain": [
       "(434437, 8)"
      ]
     },
     "execution_count": 15,
     "metadata": {},
     "output_type": "execute_result"
    }
   ],
   "source": [
    "movies.shape"
   ]
  },
  {
   "cell_type": "code",
   "execution_count": 16,
   "metadata": {
    "colab": {
     "base_uri": "https://localhost:8080/"
    },
    "executionInfo": {
     "elapsed": 29,
     "status": "ok",
     "timestamp": 1760444665947,
     "user": {
      "displayName": "Shakib Ahmed",
      "userId": "10423576209203003437"
     },
     "user_tz": -360
    },
    "id": "VZl0hxxC4z3u",
    "outputId": "c5dfe406-8b8e-459e-857e-5dcf895583c7"
   },
   "outputs": [
    {
     "name": "stdout",
     "output_type": "stream",
     "text": [
      "<class 'pandas.core.frame.DataFrame'>\n",
      "RangeIndex: 434437 entries, 0 to 434436\n",
      "Data columns (total 8 columns):\n",
      " #   Column             Non-Null Count   Dtype \n",
      "---  ------             --------------   ----- \n",
      " 0   title              434437 non-null  object\n",
      " 1   genres             356256 non-null  object\n",
      " 2   keywords           170762 non-null  object\n",
      " 3   cast               365859 non-null  object\n",
      " 4   directors          424174 non-null  object\n",
      " 5   original_language  434437 non-null  object\n",
      " 6   writers            367909 non-null  object\n",
      " 7   overview           392556 non-null  object\n",
      "dtypes: object(8)\n",
      "memory usage: 26.5+ MB\n"
     ]
    }
   ],
   "source": [
    "movies.info()"
   ]
  },
  {
   "cell_type": "code",
   "execution_count": 17,
   "metadata": {
    "colab": {
     "base_uri": "https://localhost:8080/",
     "height": 335
    },
    "executionInfo": {
     "elapsed": 17,
     "status": "ok",
     "timestamp": 1760444666168,
     "user": {
      "displayName": "Shakib Ahmed",
      "userId": "10423576209203003437"
     },
     "user_tz": -360
    },
    "id": "ZVPt05A6gB1d",
    "outputId": "cc31545d-4b87-47f0-dab1-5887143c9e8b"
   },
   "outputs": [
    {
     "data": {
      "application/vnd.microsoft.datawrangler.viewer.v0+json": {
       "columns": [
        {
         "name": "index",
         "rawType": "object",
         "type": "string"
        },
        {
         "name": "0",
         "rawType": "int64",
         "type": "integer"
        }
       ],
       "ref": "2d059c62-460f-4275-9f1f-cef4b4411990",
       "rows": [
        [
         "title",
         "0"
        ],
        [
         "genres",
         "78181"
        ],
        [
         "keywords",
         "263675"
        ],
        [
         "cast",
         "68578"
        ],
        [
         "directors",
         "10263"
        ],
        [
         "original_language",
         "0"
        ],
        [
         "writers",
         "66528"
        ],
        [
         "overview",
         "41881"
        ]
       ],
       "shape": {
        "columns": 1,
        "rows": 8
       }
      },
      "text/plain": [
       "title                     0\n",
       "genres                78181\n",
       "keywords             263675\n",
       "cast                  68578\n",
       "directors             10263\n",
       "original_language         0\n",
       "writers               66528\n",
       "overview              41881\n",
       "dtype: int64"
      ]
     },
     "execution_count": 17,
     "metadata": {},
     "output_type": "execute_result"
    }
   ],
   "source": [
    "# handle null values from the dataset\n",
    "movies.isnull().sum()"
   ]
  },
  {
   "cell_type": "code",
   "execution_count": 18,
   "metadata": {
    "id": "jDv_DVoKg1GH"
   },
   "outputs": [],
   "source": [
    "movies.dropna(inplace=True)"
   ]
  },
  {
   "cell_type": "code",
   "execution_count": 19,
   "metadata": {
    "colab": {
     "base_uri": "https://localhost:8080/",
     "height": 335
    },
    "executionInfo": {
     "elapsed": 10,
     "status": "ok",
     "timestamp": 1760444666554,
     "user": {
      "displayName": "Shakib Ahmed",
      "userId": "10423576209203003437"
     },
     "user_tz": -360
    },
    "id": "Zxb2ncWBuer0",
    "outputId": "d4f59b8f-1603-40ff-e1a4-03a3237d34af"
   },
   "outputs": [
    {
     "data": {
      "application/vnd.microsoft.datawrangler.viewer.v0+json": {
       "columns": [
        {
         "name": "index",
         "rawType": "object",
         "type": "string"
        },
        {
         "name": "0",
         "rawType": "int64",
         "type": "integer"
        }
       ],
       "ref": "d264989e-3226-47d6-b2f0-9d6523499626",
       "rows": [
        [
         "title",
         "0"
        ],
        [
         "genres",
         "0"
        ],
        [
         "keywords",
         "0"
        ],
        [
         "cast",
         "0"
        ],
        [
         "directors",
         "0"
        ],
        [
         "original_language",
         "0"
        ],
        [
         "writers",
         "0"
        ],
        [
         "overview",
         "0"
        ]
       ],
       "shape": {
        "columns": 1,
        "rows": 8
       }
      },
      "text/plain": [
       "title                0\n",
       "genres               0\n",
       "keywords             0\n",
       "cast                 0\n",
       "directors            0\n",
       "original_language    0\n",
       "writers              0\n",
       "overview             0\n",
       "dtype: int64"
      ]
     },
     "execution_count": 19,
     "metadata": {},
     "output_type": "execute_result"
    }
   ],
   "source": [
    "movies.isnull().sum()"
   ]
  },
  {
   "cell_type": "code",
   "execution_count": 20,
   "metadata": {
    "colab": {
     "base_uri": "https://localhost:8080/"
    },
    "executionInfo": {
     "elapsed": 47,
     "status": "ok",
     "timestamp": 1760444666603,
     "user": {
      "displayName": "Shakib Ahmed",
      "userId": "10423576209203003437"
     },
     "user_tz": -360
    },
    "id": "zogsi40W5E18",
    "outputId": "a807b4f3-3047-42e6-de84-352e1a63c9ff"
   },
   "outputs": [
    {
     "data": {
      "text/plain": [
       "(127984, 8)"
      ]
     },
     "execution_count": 20,
     "metadata": {},
     "output_type": "execute_result"
    }
   ],
   "source": [
    "movies.shape"
   ]
  },
  {
   "cell_type": "code",
   "execution_count": 21,
   "metadata": {
    "colab": {
     "base_uri": "https://localhost:8080/"
    },
    "executionInfo": {
     "elapsed": 416,
     "status": "ok",
     "timestamp": 1760444667020,
     "user": {
      "displayName": "Shakib Ahmed",
      "userId": "10423576209203003437"
     },
     "user_tz": -360
    },
    "id": "7IzEnAidg-r4",
    "outputId": "beabf7f2-44cc-41af-ac0d-218a371ddd60"
   },
   "outputs": [
    {
     "data": {
      "text/plain": [
       "np.int64(2)"
      ]
     },
     "execution_count": 21,
     "metadata": {},
     "output_type": "execute_result"
    }
   ],
   "source": [
    "# handle duplicate values from the dataset\n",
    "movies.duplicated().sum()"
   ]
  },
  {
   "cell_type": "code",
   "execution_count": 22,
   "metadata": {
    "id": "ubrqe0Wn1wEU"
   },
   "outputs": [],
   "source": [
    "movies.drop_duplicates(inplace=True)"
   ]
  },
  {
   "cell_type": "code",
   "execution_count": 23,
   "metadata": {
    "colab": {
     "base_uri": "https://localhost:8080/"
    },
    "executionInfo": {
     "elapsed": 435,
     "status": "ok",
     "timestamp": 1760444667934,
     "user": {
      "displayName": "Shakib Ahmed",
      "userId": "10423576209203003437"
     },
     "user_tz": -360
    },
    "id": "9H3_dcQb12ix",
    "outputId": "d6582dc7-4999-4daa-80d7-9cdc0e807edb"
   },
   "outputs": [
    {
     "data": {
      "text/plain": [
       "np.int64(0)"
      ]
     },
     "execution_count": 23,
     "metadata": {},
     "output_type": "execute_result"
    }
   ],
   "source": [
    "movies.duplicated().sum()"
   ]
  },
  {
   "cell_type": "code",
   "execution_count": 24,
   "metadata": {
    "colab": {
     "base_uri": "https://localhost:8080/"
    },
    "executionInfo": {
     "elapsed": 5,
     "status": "ok",
     "timestamp": 1760444667940,
     "user": {
      "displayName": "Shakib Ahmed",
      "userId": "10423576209203003437"
     },
     "user_tz": -360
    },
    "id": "LdR19BzW3Dtz",
    "outputId": "b43905d0-ee56-4cc5-9a7e-6c3eb9612ab0"
   },
   "outputs": [
    {
     "data": {
      "text/plain": [
       "(127982, 8)"
      ]
     },
     "execution_count": 24,
     "metadata": {},
     "output_type": "execute_result"
    }
   ],
   "source": [
    "movies.shape"
   ]
  },
  {
   "cell_type": "code",
   "execution_count": 25,
   "metadata": {
    "id": "f5fkfX2H3rRZ"
   },
   "outputs": [],
   "source": [
    "# it's a big dataset with 140053 movies data, to avoid system crash taking first 25000 movies data\n",
    "movies = movies.iloc[:24000, :]"
   ]
  },
  {
   "cell_type": "code",
   "execution_count": 26,
   "metadata": {
    "colab": {
     "base_uri": "https://localhost:8080/"
    },
    "executionInfo": {
     "elapsed": 15,
     "status": "ok",
     "timestamp": 1760444667972,
     "user": {
      "displayName": "Shakib Ahmed",
      "userId": "10423576209203003437"
     },
     "user_tz": -360
    },
    "id": "jingTDsp38KS",
    "outputId": "dd5905a4-2f87-479b-c685-6cc70d45452e"
   },
   "outputs": [
    {
     "data": {
      "text/plain": [
       "(24000, 8)"
      ]
     },
     "execution_count": 26,
     "metadata": {},
     "output_type": "execute_result"
    }
   ],
   "source": [
    "movies.shape"
   ]
  },
  {
   "cell_type": "code",
   "execution_count": 27,
   "metadata": {
    "id": "GPn-pz40CLcM"
   },
   "outputs": [],
   "source": [
    "movies['tag'] = movies['title'] + ' ' + movies['genres'] + ' ' + movies['keywords'] + ' ' + movies['cast'] + ' ' + movies['directors'] + ' ' + movies['original_language'] + ' ' + movies['writers'] + ' ' + movies['overview']"
   ]
  },
  {
   "cell_type": "code",
   "execution_count": 28,
   "metadata": {
    "colab": {
     "base_uri": "https://localhost:8080/",
     "height": 293
    },
    "executionInfo": {
     "elapsed": 456,
     "status": "ok",
     "timestamp": 1760444668521,
     "user": {
      "displayName": "Shakib Ahmed",
      "userId": "10423576209203003437"
     },
     "user_tz": -360
    },
    "id": "dOb3hQAlCgcz",
    "outputId": "eaa85688-a12b-42b1-d1cb-2b9ba3fe3e50"
   },
   "outputs": [
    {
     "data": {
      "application/vnd.microsoft.datawrangler.viewer.v0+json": {
       "columns": [
        {
         "name": "index",
         "rawType": "int64",
         "type": "integer"
        },
        {
         "name": "title",
         "rawType": "object",
         "type": "string"
        },
        {
         "name": "genres",
         "rawType": "object",
         "type": "string"
        },
        {
         "name": "keywords",
         "rawType": "object",
         "type": "string"
        },
        {
         "name": "cast",
         "rawType": "object",
         "type": "string"
        },
        {
         "name": "directors",
         "rawType": "object",
         "type": "string"
        },
        {
         "name": "original_language",
         "rawType": "object",
         "type": "string"
        },
        {
         "name": "writers",
         "rawType": "object",
         "type": "string"
        },
        {
         "name": "overview",
         "rawType": "object",
         "type": "string"
        },
        {
         "name": "tag",
         "rawType": "object",
         "type": "string"
        }
       ],
       "ref": "57a7dad4-36e3-4b15-acee-432ae1fe0779",
       "rows": [
        [
         "0",
         "Inception",
         "Action, Science Fiction, Adventure",
         "rescue, mission, dream, airplane, paris, france, virtual reality, kidnapping, philosophy, spy, allegory, manipulation, car crash, heist, memory, architecture, los angeles, california, dream world, subconscious",
         "Leonardo DiCaprio, Joseph Gordon-Levitt, Ken Watanabe, Tom Hardy, Elliot Page, Dileep Rao, Cillian Murphy, Tom Berenger, Marion Cotillard, Pete Postlethwaite",
         "Christopher Nolan",
         "en",
         "Christopher Nolan",
         "Cobb, a skilled thief who commits corporate espionage by infiltrating the subconscious of his targets is offered a chance to regain his old life as payment for a task considered to be impossible: \"inception\", the implantation of another person's idea into a target's subconscious.",
         "Inception Action, Science Fiction, Adventure rescue, mission, dream, airplane, paris, france, virtual reality, kidnapping, philosophy, spy, allegory, manipulation, car crash, heist, memory, architecture, los angeles, california, dream world, subconscious Leonardo DiCaprio, Joseph Gordon-Levitt, Ken Watanabe, Tom Hardy, Elliot Page, Dileep Rao, Cillian Murphy, Tom Berenger, Marion Cotillard, Pete Postlethwaite Christopher Nolan en Christopher Nolan Cobb, a skilled thief who commits corporate espionage by infiltrating the subconscious of his targets is offered a chance to regain his old life as payment for a task considered to be impossible: \"inception\", the implantation of another person's idea into a target's subconscious."
        ],
        [
         "1",
         "Interstellar",
         "Adventure, Drama, Science Fiction",
         "rescue, future, spacecraft, race against time, artificial intelligence (a.i.), nasa, time warp, dystopia, expedition, space travel, wormhole, famine, black hole, quantum mechanics, family relationships, space, robot, astronaut, scientist, single father, farmer, space station, curious, space adventure, time paradox, thoughtful, time-manipulation, father daughter relationship, 2060s, cornfield, time manipulation, complicated",
         "Matthew McConaughey, Anne Hathaway, Michael Caine, Jessica Chastain, Casey Affleck, Wes Bentley, Topher Grace, Mackenzie Foy, Ellen Burstyn, John Lithgow",
         "Christopher Nolan",
         "en",
         "Jonathan Nolan, Christopher Nolan",
         "The adventures of a group of explorers who make use of a newly discovered wormhole to surpass the limitations on human space travel and conquer the vast distances involved in an interstellar voyage.",
         "Interstellar Adventure, Drama, Science Fiction rescue, future, spacecraft, race against time, artificial intelligence (a.i.), nasa, time warp, dystopia, expedition, space travel, wormhole, famine, black hole, quantum mechanics, family relationships, space, robot, astronaut, scientist, single father, farmer, space station, curious, space adventure, time paradox, thoughtful, time-manipulation, father daughter relationship, 2060s, cornfield, time manipulation, complicated Matthew McConaughey, Anne Hathaway, Michael Caine, Jessica Chastain, Casey Affleck, Wes Bentley, Topher Grace, Mackenzie Foy, Ellen Burstyn, John Lithgow Christopher Nolan en Jonathan Nolan, Christopher Nolan The adventures of a group of explorers who make use of a newly discovered wormhole to surpass the limitations on human space travel and conquer the vast distances involved in an interstellar voyage."
        ],
        [
         "2",
         "The Dark Knight",
         "Drama, Action, Crime, Thriller",
         "joker, sadism, chaos, secret identity, crime fighter, superhero, anti hero, scarecrow, based on comic, vigilante, organized crime, tragic hero, anti villain, criminal mastermind, district attorney, super power, super villain, neo-noir",
         "Christian Bale, Heath Ledger, Aaron Eckhart, Michael Caine, Maggie Gyllenhaal, Gary Oldman, Morgan Freeman, Monique Gabriela Curnen, Ron Dean, Cillian Murphy",
         "Christopher Nolan",
         "en",
         "Jonathan Nolan, Christopher Nolan, David S. Goyer, Bob Kane",
         "Batman raises the stakes in his war on crime. With the help of Lt. Jim Gordon and District Attorney Harvey Dent, Batman sets out to dismantle the remaining criminal organizations that plague the streets. The partnership proves to be effective, but they soon find themselves prey to a reign of chaos unleashed by a rising criminal mastermind known to the terrified citizens of Gotham as the Joker.",
         "The Dark Knight Drama, Action, Crime, Thriller joker, sadism, chaos, secret identity, crime fighter, superhero, anti hero, scarecrow, based on comic, vigilante, organized crime, tragic hero, anti villain, criminal mastermind, district attorney, super power, super villain, neo-noir Christian Bale, Heath Ledger, Aaron Eckhart, Michael Caine, Maggie Gyllenhaal, Gary Oldman, Morgan Freeman, Monique Gabriela Curnen, Ron Dean, Cillian Murphy Christopher Nolan en Jonathan Nolan, Christopher Nolan, David S. Goyer, Bob Kane Batman raises the stakes in his war on crime. With the help of Lt. Jim Gordon and District Attorney Harvey Dent, Batman sets out to dismantle the remaining criminal organizations that plague the streets. The partnership proves to be effective, but they soon find themselves prey to a reign of chaos unleashed by a rising criminal mastermind known to the terrified citizens of Gotham as the Joker."
        ],
        [
         "3",
         "Avatar",
         "Action, Adventure, Fantasy, Science Fiction",
         "future, society, culture clash, space travel, space war, space colony, tribe, romance, alien, futuristic, space, alien planet, marine, soldier, battle, love affair, nature, anti war, power relations, joyful",
         "Sam Worthington, Zoe Saldaña, Sigourney Weaver, Stephen Lang, Michelle Rodriguez, Giovanni Ribisi, Joel David Moore, CCH Pounder, Wes Studi, Laz Alonso",
         "James Cameron",
         "en",
         "James Cameron",
         "In the 22nd century, a paraplegic Marine is dispatched to the moon Pandora on a unique mission, but becomes torn between following orders and protecting an alien civilization.",
         "Avatar Action, Adventure, Fantasy, Science Fiction future, society, culture clash, space travel, space war, space colony, tribe, romance, alien, futuristic, space, alien planet, marine, soldier, battle, love affair, nature, anti war, power relations, joyful Sam Worthington, Zoe Saldaña, Sigourney Weaver, Stephen Lang, Michelle Rodriguez, Giovanni Ribisi, Joel David Moore, CCH Pounder, Wes Studi, Laz Alonso James Cameron en James Cameron In the 22nd century, a paraplegic Marine is dispatched to the moon Pandora on a unique mission, but becomes torn between following orders and protecting an alien civilization."
        ],
        [
         "4",
         "The Avengers",
         "Science Fiction, Action, Adventure",
         "new york city, superhero, shield, based on comic, alien invasion, superhero team, aftercreditsstinger, duringcreditsstinger, marvel cinematic universe (mcu)",
         "Robert Downey Jr., Chris Evans, Mark Ruffalo, Chris Hemsworth, Scarlett Johansson, Jeremy Renner, Tom Hiddleston, Clark Gregg, Cobie Smulders, Stellan Skarsgård",
         "Joss Whedon",
         "en",
         "Joss Whedon, Zak Penn",
         "When an unexpected enemy emerges and threatens global safety and security, Nick Fury, director of the international peacekeeping agency known as S.H.I.E.L.D., finds himself in need of a team to pull the world back from the brink of disaster. Spanning the globe, a daring recruitment effort begins!",
         "The Avengers Science Fiction, Action, Adventure new york city, superhero, shield, based on comic, alien invasion, superhero team, aftercreditsstinger, duringcreditsstinger, marvel cinematic universe (mcu) Robert Downey Jr., Chris Evans, Mark Ruffalo, Chris Hemsworth, Scarlett Johansson, Jeremy Renner, Tom Hiddleston, Clark Gregg, Cobie Smulders, Stellan Skarsgård Joss Whedon en Joss Whedon, Zak Penn When an unexpected enemy emerges and threatens global safety and security, Nick Fury, director of the international peacekeeping agency known as S.H.I.E.L.D., finds himself in need of a team to pull the world back from the brink of disaster. Spanning the globe, a daring recruitment effort begins!"
        ]
       ],
       "shape": {
        "columns": 9,
        "rows": 5
       }
      },
      "text/html": [
       "<div>\n",
       "<style scoped>\n",
       "    .dataframe tbody tr th:only-of-type {\n",
       "        vertical-align: middle;\n",
       "    }\n",
       "\n",
       "    .dataframe tbody tr th {\n",
       "        vertical-align: top;\n",
       "    }\n",
       "\n",
       "    .dataframe thead th {\n",
       "        text-align: right;\n",
       "    }\n",
       "</style>\n",
       "<table border=\"1\" class=\"dataframe\">\n",
       "  <thead>\n",
       "    <tr style=\"text-align: right;\">\n",
       "      <th></th>\n",
       "      <th>title</th>\n",
       "      <th>genres</th>\n",
       "      <th>keywords</th>\n",
       "      <th>cast</th>\n",
       "      <th>directors</th>\n",
       "      <th>original_language</th>\n",
       "      <th>writers</th>\n",
       "      <th>overview</th>\n",
       "      <th>tag</th>\n",
       "    </tr>\n",
       "  </thead>\n",
       "  <tbody>\n",
       "    <tr>\n",
       "      <th>0</th>\n",
       "      <td>Inception</td>\n",
       "      <td>Action, Science Fiction, Adventure</td>\n",
       "      <td>rescue, mission, dream, airplane, paris, franc...</td>\n",
       "      <td>Leonardo DiCaprio, Joseph Gordon-Levitt, Ken W...</td>\n",
       "      <td>Christopher Nolan</td>\n",
       "      <td>en</td>\n",
       "      <td>Christopher Nolan</td>\n",
       "      <td>Cobb, a skilled thief who commits corporate es...</td>\n",
       "      <td>Inception Action, Science Fiction, Adventure r...</td>\n",
       "    </tr>\n",
       "    <tr>\n",
       "      <th>1</th>\n",
       "      <td>Interstellar</td>\n",
       "      <td>Adventure, Drama, Science Fiction</td>\n",
       "      <td>rescue, future, spacecraft, race against time,...</td>\n",
       "      <td>Matthew McConaughey, Anne Hathaway, Michael Ca...</td>\n",
       "      <td>Christopher Nolan</td>\n",
       "      <td>en</td>\n",
       "      <td>Jonathan Nolan, Christopher Nolan</td>\n",
       "      <td>The adventures of a group of explorers who mak...</td>\n",
       "      <td>Interstellar Adventure, Drama, Science Fiction...</td>\n",
       "    </tr>\n",
       "    <tr>\n",
       "      <th>2</th>\n",
       "      <td>The Dark Knight</td>\n",
       "      <td>Drama, Action, Crime, Thriller</td>\n",
       "      <td>joker, sadism, chaos, secret identity, crime f...</td>\n",
       "      <td>Christian Bale, Heath Ledger, Aaron Eckhart, M...</td>\n",
       "      <td>Christopher Nolan</td>\n",
       "      <td>en</td>\n",
       "      <td>Jonathan Nolan, Christopher Nolan, David S. Go...</td>\n",
       "      <td>Batman raises the stakes in his war on crime. ...</td>\n",
       "      <td>The Dark Knight Drama, Action, Crime, Thriller...</td>\n",
       "    </tr>\n",
       "    <tr>\n",
       "      <th>3</th>\n",
       "      <td>Avatar</td>\n",
       "      <td>Action, Adventure, Fantasy, Science Fiction</td>\n",
       "      <td>future, society, culture clash, space travel, ...</td>\n",
       "      <td>Sam Worthington, Zoe Saldaña, Sigourney Weaver...</td>\n",
       "      <td>James Cameron</td>\n",
       "      <td>en</td>\n",
       "      <td>James Cameron</td>\n",
       "      <td>In the 22nd century, a paraplegic Marine is di...</td>\n",
       "      <td>Avatar Action, Adventure, Fantasy, Science Fic...</td>\n",
       "    </tr>\n",
       "    <tr>\n",
       "      <th>4</th>\n",
       "      <td>The Avengers</td>\n",
       "      <td>Science Fiction, Action, Adventure</td>\n",
       "      <td>new york city, superhero, shield, based on com...</td>\n",
       "      <td>Robert Downey Jr., Chris Evans, Mark Ruffalo, ...</td>\n",
       "      <td>Joss Whedon</td>\n",
       "      <td>en</td>\n",
       "      <td>Joss Whedon, Zak Penn</td>\n",
       "      <td>When an unexpected enemy emerges and threatens...</td>\n",
       "      <td>The Avengers Science Fiction, Action, Adventur...</td>\n",
       "    </tr>\n",
       "  </tbody>\n",
       "</table>\n",
       "</div>"
      ],
      "text/plain": [
       "             title                                       genres  \\\n",
       "0        Inception           Action, Science Fiction, Adventure   \n",
       "1     Interstellar            Adventure, Drama, Science Fiction   \n",
       "2  The Dark Knight               Drama, Action, Crime, Thriller   \n",
       "3           Avatar  Action, Adventure, Fantasy, Science Fiction   \n",
       "4     The Avengers           Science Fiction, Action, Adventure   \n",
       "\n",
       "                                            keywords  \\\n",
       "0  rescue, mission, dream, airplane, paris, franc...   \n",
       "1  rescue, future, spacecraft, race against time,...   \n",
       "2  joker, sadism, chaos, secret identity, crime f...   \n",
       "3  future, society, culture clash, space travel, ...   \n",
       "4  new york city, superhero, shield, based on com...   \n",
       "\n",
       "                                                cast          directors  \\\n",
       "0  Leonardo DiCaprio, Joseph Gordon-Levitt, Ken W...  Christopher Nolan   \n",
       "1  Matthew McConaughey, Anne Hathaway, Michael Ca...  Christopher Nolan   \n",
       "2  Christian Bale, Heath Ledger, Aaron Eckhart, M...  Christopher Nolan   \n",
       "3  Sam Worthington, Zoe Saldaña, Sigourney Weaver...      James Cameron   \n",
       "4  Robert Downey Jr., Chris Evans, Mark Ruffalo, ...        Joss Whedon   \n",
       "\n",
       "  original_language                                            writers  \\\n",
       "0                en                                  Christopher Nolan   \n",
       "1                en                  Jonathan Nolan, Christopher Nolan   \n",
       "2                en  Jonathan Nolan, Christopher Nolan, David S. Go...   \n",
       "3                en                                      James Cameron   \n",
       "4                en                              Joss Whedon, Zak Penn   \n",
       "\n",
       "                                            overview  \\\n",
       "0  Cobb, a skilled thief who commits corporate es...   \n",
       "1  The adventures of a group of explorers who mak...   \n",
       "2  Batman raises the stakes in his war on crime. ...   \n",
       "3  In the 22nd century, a paraplegic Marine is di...   \n",
       "4  When an unexpected enemy emerges and threatens...   \n",
       "\n",
       "                                                 tag  \n",
       "0  Inception Action, Science Fiction, Adventure r...  \n",
       "1  Interstellar Adventure, Drama, Science Fiction...  \n",
       "2  The Dark Knight Drama, Action, Crime, Thriller...  \n",
       "3  Avatar Action, Adventure, Fantasy, Science Fic...  \n",
       "4  The Avengers Science Fiction, Action, Adventur...  "
      ]
     },
     "execution_count": 28,
     "metadata": {},
     "output_type": "execute_result"
    }
   ],
   "source": [
    "movies.head()"
   ]
  },
  {
   "cell_type": "code",
   "execution_count": 29,
   "metadata": {
    "colab": {
     "base_uri": "https://localhost:8080/",
     "height": 293
    },
    "executionInfo": {
     "elapsed": 36,
     "status": "ok",
     "timestamp": 1760444668555,
     "user": {
      "displayName": "Shakib Ahmed",
      "userId": "10423576209203003437"
     },
     "user_tz": -360
    },
    "id": "i3uqY96LCmr-",
    "outputId": "afdb8adc-30d7-4ca9-d49f-be5f54db208a"
   },
   "outputs": [
    {
     "data": {
      "application/vnd.microsoft.datawrangler.viewer.v0+json": {
       "columns": [
        {
         "name": "index",
         "rawType": "int64",
         "type": "integer"
        },
        {
         "name": "title",
         "rawType": "object",
         "type": "string"
        },
        {
         "name": "genres",
         "rawType": "object",
         "type": "string"
        },
        {
         "name": "keywords",
         "rawType": "object",
         "type": "string"
        },
        {
         "name": "cast",
         "rawType": "object",
         "type": "string"
        },
        {
         "name": "directors",
         "rawType": "object",
         "type": "string"
        },
        {
         "name": "original_language",
         "rawType": "object",
         "type": "string"
        },
        {
         "name": "writers",
         "rawType": "object",
         "type": "string"
        },
        {
         "name": "overview",
         "rawType": "object",
         "type": "string"
        },
        {
         "name": "tag",
         "rawType": "object",
         "type": "string"
        }
       ],
       "ref": "e4dbd16a-173b-478a-822a-c38b2d33c2df",
       "rows": [
        [
         "29038",
         "Arrowhead",
         "Action, Adventure, Mystery, Science Fiction",
         "australia, alien, stranded, signal",
         "Dan Mor, Aleisha Rose, Shaun Micallef, Mark Redpath, Christopher Kirby, Jamie Foster, Jak Wyld, Akira Bradley, Adam Bokos, Adam Tuohy",
         "Jesse O'Brien",
         "en",
         "Jesse O'Brien",
         "Kye is a prisoner of war caught between two armies that he doesn't believe in. When offered an opportunity for freedom, Kye sets out on one last rescue mission only to become stranded when his ship crash lands. Kye soon realises that the deadliest creature on the desert moon is himself.",
         "Arrowhead Action, Adventure, Mystery, Science Fiction australia, alien, stranded, signal Dan Mor, Aleisha Rose, Shaun Micallef, Mark Redpath, Christopher Kirby, Jamie Foster, Jak Wyld, Akira Bradley, Adam Bokos, Adam Tuohy Jesse O'Brien en Jesse O'Brien Kye is a prisoner of war caught between two armies that he doesn't believe in. When offered an opportunity for freedom, Kye sets out on one last rescue mission only to become stranded when his ship crash lands. Kye soon realises that the deadliest creature on the desert moon is himself."
        ],
        [
         "29040",
         "Digimon Adventure tri. Part 2: Determination",
         "Animation, Adventure, Science Fiction",
         "monster, anime, proxy battle, digimon",
         "Natsuki Hanae, Yoshimasa Hosoya, Suzuko Mimori, Mutsumi Tamura, Hitomi Yoshida, Junya Ikeda, Junya Enoki, Mao Ichimichi, Miho Arakawa, Chika Sakamoto",
         "Keitarô Motonaga",
         "ja",
         "Akiyoshi Hongo, Yûko Kakihara",
         "The DigiDestined go to a nearby hot springs theme park and everyone has a good time, but Joe doesn't show up because he wants to study for his exams. Another infected Digimon, Ogremon, attacks Odaiba. Gomamon runs away from home while Mimi faces problems with the other DigiDestined and her classmates because of her selfish ideas.",
         "Digimon Adventure tri. Part 2: Determination Animation, Adventure, Science Fiction monster, anime, proxy battle, digimon Natsuki Hanae, Yoshimasa Hosoya, Suzuko Mimori, Mutsumi Tamura, Hitomi Yoshida, Junya Ikeda, Junya Enoki, Mao Ichimichi, Miho Arakawa, Chika Sakamoto Keitarô Motonaga ja Akiyoshi Hongo, Yûko Kakihara The DigiDestined go to a nearby hot springs theme park and everyone has a good time, but Joe doesn't show up because he wants to study for his exams. Another infected Digimon, Ogremon, attacks Odaiba. Gomamon runs away from home while Mimi faces problems with the other DigiDestined and her classmates because of her selfish ideas."
        ],
        [
         "29041",
         "Man of Aran",
         "Documentary",
         "island, fisherman, ireland, shark, hardship, shark fishers",
         "Colman 'Tiger' King, Maggie Dirrane, Michael Dirrane, Patch 'Red Beard' Ruadh, Patcheen Faherty, Tommy O'Rourke, Stephen Dirrane, Pat McDonough",
         "Robert J. Flaherty",
         "en",
         "Robert J. Flaherty",
         "A documentary on the life of the people of  the Aran Islands, who were believed to contain the essence of the ancient Irish life, represented by a pure uncorrupted peasant existence centred around the struggle between man and his hostile but magnificent surroundings. A blend of documentary and fictional narrative, the film captures the everyday trials of life on Ireland's unforgiving Aran Islands.",
         "Man of Aran Documentary island, fisherman, ireland, shark, hardship, shark fishers Colman 'Tiger' King, Maggie Dirrane, Michael Dirrane, Patch 'Red Beard' Ruadh, Patcheen Faherty, Tommy O'Rourke, Stephen Dirrane, Pat McDonough Robert J. Flaherty en Robert J. Flaherty A documentary on the life of the people of  the Aran Islands, who were believed to contain the essence of the ancient Irish life, represented by a pure uncorrupted peasant existence centred around the struggle between man and his hostile but magnificent surroundings. A blend of documentary and fictional narrative, the film captures the everyday trials of life on Ireland's unforgiving Aran Islands."
        ],
        [
         "29042",
         "SeaFood",
         "Animation, Comedy, Family, Adventure",
         "underwater, sea creature",
         "Steven Bone, Colin Chong, Jason Cottom, Kennie Dowle, Diong Chae Lian, Maxwell Vreeland Andrew, Tikriti Shabudin, Adila Shakir, Jay Sheldon, Andrew Susay",
         "Aun Hoe Goh",
         "th",
         "Jeffrey Chiang",
         "Pup, a bamboo shark, discovers egg sacs while playing around the ocean with his friends. When he sees human poachers stealing the eggs from his reef, Pup makes it his mission to save his family. As he leaves the sea and enters the beautiful, yet dangerous, world of humans he'll prove he isn't too small to save his family.",
         "SeaFood Animation, Comedy, Family, Adventure underwater, sea creature Steven Bone, Colin Chong, Jason Cottom, Kennie Dowle, Diong Chae Lian, Maxwell Vreeland Andrew, Tikriti Shabudin, Adila Shakir, Jay Sheldon, Andrew Susay Aun Hoe Goh th Jeffrey Chiang Pup, a bamboo shark, discovers egg sacs while playing around the ocean with his friends. When he sees human poachers stealing the eggs from his reef, Pup makes it his mission to save his family. As he leaves the sea and enters the beautiful, yet dangerous, world of humans he'll prove he isn't too small to save his family."
        ],
        [
         "29043",
         "Rails & Ties",
         "Drama",
         "train accident, sorrow, accidental death, woman director",
         "Kevin Bacon, Marcia Gay Harden, Miles Heizer, Marin Hinkle, Eugene Byrd, Bonnie Root, Kathryn Joosten, Steve Eastin, Laura Cerón, Margo Martindale",
         "Alison Eastwood",
         "en",
         "Micky Levy",
         "A deadly collision between a train and car lead to an unlikely bond between the train engineer and a young boy who escapes the carnage.",
         "Rails & Ties Drama train accident, sorrow, accidental death, woman director Kevin Bacon, Marcia Gay Harden, Miles Heizer, Marin Hinkle, Eugene Byrd, Bonnie Root, Kathryn Joosten, Steve Eastin, Laura Cerón, Margo Martindale Alison Eastwood en Micky Levy A deadly collision between a train and car lead to an unlikely bond between the train engineer and a young boy who escapes the carnage."
        ]
       ],
       "shape": {
        "columns": 9,
        "rows": 5
       }
      },
      "text/html": [
       "<div>\n",
       "<style scoped>\n",
       "    .dataframe tbody tr th:only-of-type {\n",
       "        vertical-align: middle;\n",
       "    }\n",
       "\n",
       "    .dataframe tbody tr th {\n",
       "        vertical-align: top;\n",
       "    }\n",
       "\n",
       "    .dataframe thead th {\n",
       "        text-align: right;\n",
       "    }\n",
       "</style>\n",
       "<table border=\"1\" class=\"dataframe\">\n",
       "  <thead>\n",
       "    <tr style=\"text-align: right;\">\n",
       "      <th></th>\n",
       "      <th>title</th>\n",
       "      <th>genres</th>\n",
       "      <th>keywords</th>\n",
       "      <th>cast</th>\n",
       "      <th>directors</th>\n",
       "      <th>original_language</th>\n",
       "      <th>writers</th>\n",
       "      <th>overview</th>\n",
       "      <th>tag</th>\n",
       "    </tr>\n",
       "  </thead>\n",
       "  <tbody>\n",
       "    <tr>\n",
       "      <th>29038</th>\n",
       "      <td>Arrowhead</td>\n",
       "      <td>Action, Adventure, Mystery, Science Fiction</td>\n",
       "      <td>australia, alien, stranded, signal</td>\n",
       "      <td>Dan Mor, Aleisha Rose, Shaun Micallef, Mark Re...</td>\n",
       "      <td>Jesse O'Brien</td>\n",
       "      <td>en</td>\n",
       "      <td>Jesse O'Brien</td>\n",
       "      <td>Kye is a prisoner of war caught between two ar...</td>\n",
       "      <td>Arrowhead Action, Adventure, Mystery, Science ...</td>\n",
       "    </tr>\n",
       "    <tr>\n",
       "      <th>29040</th>\n",
       "      <td>Digimon Adventure tri. Part 2: Determination</td>\n",
       "      <td>Animation, Adventure, Science Fiction</td>\n",
       "      <td>monster, anime, proxy battle, digimon</td>\n",
       "      <td>Natsuki Hanae, Yoshimasa Hosoya, Suzuko Mimori...</td>\n",
       "      <td>Keitarô Motonaga</td>\n",
       "      <td>ja</td>\n",
       "      <td>Akiyoshi Hongo, Yûko Kakihara</td>\n",
       "      <td>The DigiDestined go to a nearby hot springs th...</td>\n",
       "      <td>Digimon Adventure tri. Part 2: Determination A...</td>\n",
       "    </tr>\n",
       "    <tr>\n",
       "      <th>29041</th>\n",
       "      <td>Man of Aran</td>\n",
       "      <td>Documentary</td>\n",
       "      <td>island, fisherman, ireland, shark, hardship, s...</td>\n",
       "      <td>Colman 'Tiger' King, Maggie Dirrane, Michael D...</td>\n",
       "      <td>Robert J. Flaherty</td>\n",
       "      <td>en</td>\n",
       "      <td>Robert J. Flaherty</td>\n",
       "      <td>A documentary on the life of the people of  th...</td>\n",
       "      <td>Man of Aran Documentary island, fisherman, ire...</td>\n",
       "    </tr>\n",
       "    <tr>\n",
       "      <th>29042</th>\n",
       "      <td>SeaFood</td>\n",
       "      <td>Animation, Comedy, Family, Adventure</td>\n",
       "      <td>underwater, sea creature</td>\n",
       "      <td>Steven Bone, Colin Chong, Jason Cottom, Kennie...</td>\n",
       "      <td>Aun Hoe Goh</td>\n",
       "      <td>th</td>\n",
       "      <td>Jeffrey Chiang</td>\n",
       "      <td>Pup, a bamboo shark, discovers egg sacs while ...</td>\n",
       "      <td>SeaFood Animation, Comedy, Family, Adventure u...</td>\n",
       "    </tr>\n",
       "    <tr>\n",
       "      <th>29043</th>\n",
       "      <td>Rails &amp; Ties</td>\n",
       "      <td>Drama</td>\n",
       "      <td>train accident, sorrow, accidental death, woma...</td>\n",
       "      <td>Kevin Bacon, Marcia Gay Harden, Miles Heizer, ...</td>\n",
       "      <td>Alison Eastwood</td>\n",
       "      <td>en</td>\n",
       "      <td>Micky Levy</td>\n",
       "      <td>A deadly collision between a train and car lea...</td>\n",
       "      <td>Rails &amp; Ties Drama train accident, sorrow, acc...</td>\n",
       "    </tr>\n",
       "  </tbody>\n",
       "</table>\n",
       "</div>"
      ],
      "text/plain": [
       "                                              title  \\\n",
       "29038                                     Arrowhead   \n",
       "29040  Digimon Adventure tri. Part 2: Determination   \n",
       "29041                                   Man of Aran   \n",
       "29042                                       SeaFood   \n",
       "29043                                  Rails & Ties   \n",
       "\n",
       "                                            genres  \\\n",
       "29038  Action, Adventure, Mystery, Science Fiction   \n",
       "29040        Animation, Adventure, Science Fiction   \n",
       "29041                                  Documentary   \n",
       "29042         Animation, Comedy, Family, Adventure   \n",
       "29043                                        Drama   \n",
       "\n",
       "                                                keywords  \\\n",
       "29038                 australia, alien, stranded, signal   \n",
       "29040              monster, anime, proxy battle, digimon   \n",
       "29041  island, fisherman, ireland, shark, hardship, s...   \n",
       "29042                           underwater, sea creature   \n",
       "29043  train accident, sorrow, accidental death, woma...   \n",
       "\n",
       "                                                    cast           directors  \\\n",
       "29038  Dan Mor, Aleisha Rose, Shaun Micallef, Mark Re...       Jesse O'Brien   \n",
       "29040  Natsuki Hanae, Yoshimasa Hosoya, Suzuko Mimori...    Keitarô Motonaga   \n",
       "29041  Colman 'Tiger' King, Maggie Dirrane, Michael D...  Robert J. Flaherty   \n",
       "29042  Steven Bone, Colin Chong, Jason Cottom, Kennie...         Aun Hoe Goh   \n",
       "29043  Kevin Bacon, Marcia Gay Harden, Miles Heizer, ...     Alison Eastwood   \n",
       "\n",
       "      original_language                        writers  \\\n",
       "29038                en                  Jesse O'Brien   \n",
       "29040                ja  Akiyoshi Hongo, Yûko Kakihara   \n",
       "29041                en             Robert J. Flaherty   \n",
       "29042                th                 Jeffrey Chiang   \n",
       "29043                en                     Micky Levy   \n",
       "\n",
       "                                                overview  \\\n",
       "29038  Kye is a prisoner of war caught between two ar...   \n",
       "29040  The DigiDestined go to a nearby hot springs th...   \n",
       "29041  A documentary on the life of the people of  th...   \n",
       "29042  Pup, a bamboo shark, discovers egg sacs while ...   \n",
       "29043  A deadly collision between a train and car lea...   \n",
       "\n",
       "                                                     tag  \n",
       "29038  Arrowhead Action, Adventure, Mystery, Science ...  \n",
       "29040  Digimon Adventure tri. Part 2: Determination A...  \n",
       "29041  Man of Aran Documentary island, fisherman, ire...  \n",
       "29042  SeaFood Animation, Comedy, Family, Adventure u...  \n",
       "29043  Rails & Ties Drama train accident, sorrow, acc...  "
      ]
     },
     "execution_count": 29,
     "metadata": {},
     "output_type": "execute_result"
    }
   ],
   "source": [
    "movies.tail()"
   ]
  },
  {
   "cell_type": "code",
   "execution_count": 54,
   "metadata": {
    "id": "4JicFEkGC0hY"
   },
   "outputs": [],
   "source": [
    "data = movies[['title', 'tag']].copy()"
   ]
  },
  {
   "cell_type": "code",
   "execution_count": 31,
   "metadata": {
    "colab": {
     "base_uri": "https://localhost:8080/"
    },
    "executionInfo": {
     "elapsed": 3,
     "status": "ok",
     "timestamp": 1760444668587,
     "user": {
      "displayName": "Shakib Ahmed",
      "userId": "10423576209203003437"
     },
     "user_tz": -360
    },
    "id": "MVayrpNEC7Bi",
    "outputId": "ba431434-6fab-4b94-f4e4-31a4ef264fe2"
   },
   "outputs": [
    {
     "data": {
      "text/plain": [
       "(24000, 2)"
      ]
     },
     "execution_count": 31,
     "metadata": {},
     "output_type": "execute_result"
    }
   ],
   "source": [
    "data.shape"
   ]
  },
  {
   "cell_type": "code",
   "execution_count": 32,
   "metadata": {
    "colab": {
     "base_uri": "https://localhost:8080/",
     "height": 206
    },
    "executionInfo": {
     "elapsed": 209,
     "status": "ok",
     "timestamp": 1760444668797,
     "user": {
      "displayName": "Shakib Ahmed",
      "userId": "10423576209203003437"
     },
     "user_tz": -360
    },
    "id": "z-gF1cLXC_r1",
    "outputId": "0c37a401-cf6b-42ff-bbcd-ecacb0688a5a"
   },
   "outputs": [
    {
     "data": {
      "application/vnd.microsoft.datawrangler.viewer.v0+json": {
       "columns": [
        {
         "name": "index",
         "rawType": "int64",
         "type": "integer"
        },
        {
         "name": "title",
         "rawType": "object",
         "type": "string"
        },
        {
         "name": "tag",
         "rawType": "object",
         "type": "string"
        }
       ],
       "ref": "4ce4dc26-e5cf-4c51-ba10-9054bb4b70e0",
       "rows": [
        [
         "0",
         "Inception",
         "Inception Action, Science Fiction, Adventure rescue, mission, dream, airplane, paris, france, virtual reality, kidnapping, philosophy, spy, allegory, manipulation, car crash, heist, memory, architecture, los angeles, california, dream world, subconscious Leonardo DiCaprio, Joseph Gordon-Levitt, Ken Watanabe, Tom Hardy, Elliot Page, Dileep Rao, Cillian Murphy, Tom Berenger, Marion Cotillard, Pete Postlethwaite Christopher Nolan en Christopher Nolan Cobb, a skilled thief who commits corporate espionage by infiltrating the subconscious of his targets is offered a chance to regain his old life as payment for a task considered to be impossible: \"inception\", the implantation of another person's idea into a target's subconscious."
        ],
        [
         "1",
         "Interstellar",
         "Interstellar Adventure, Drama, Science Fiction rescue, future, spacecraft, race against time, artificial intelligence (a.i.), nasa, time warp, dystopia, expedition, space travel, wormhole, famine, black hole, quantum mechanics, family relationships, space, robot, astronaut, scientist, single father, farmer, space station, curious, space adventure, time paradox, thoughtful, time-manipulation, father daughter relationship, 2060s, cornfield, time manipulation, complicated Matthew McConaughey, Anne Hathaway, Michael Caine, Jessica Chastain, Casey Affleck, Wes Bentley, Topher Grace, Mackenzie Foy, Ellen Burstyn, John Lithgow Christopher Nolan en Jonathan Nolan, Christopher Nolan The adventures of a group of explorers who make use of a newly discovered wormhole to surpass the limitations on human space travel and conquer the vast distances involved in an interstellar voyage."
        ],
        [
         "2",
         "The Dark Knight",
         "The Dark Knight Drama, Action, Crime, Thriller joker, sadism, chaos, secret identity, crime fighter, superhero, anti hero, scarecrow, based on comic, vigilante, organized crime, tragic hero, anti villain, criminal mastermind, district attorney, super power, super villain, neo-noir Christian Bale, Heath Ledger, Aaron Eckhart, Michael Caine, Maggie Gyllenhaal, Gary Oldman, Morgan Freeman, Monique Gabriela Curnen, Ron Dean, Cillian Murphy Christopher Nolan en Jonathan Nolan, Christopher Nolan, David S. Goyer, Bob Kane Batman raises the stakes in his war on crime. With the help of Lt. Jim Gordon and District Attorney Harvey Dent, Batman sets out to dismantle the remaining criminal organizations that plague the streets. The partnership proves to be effective, but they soon find themselves prey to a reign of chaos unleashed by a rising criminal mastermind known to the terrified citizens of Gotham as the Joker."
        ],
        [
         "3",
         "Avatar",
         "Avatar Action, Adventure, Fantasy, Science Fiction future, society, culture clash, space travel, space war, space colony, tribe, romance, alien, futuristic, space, alien planet, marine, soldier, battle, love affair, nature, anti war, power relations, joyful Sam Worthington, Zoe Saldaña, Sigourney Weaver, Stephen Lang, Michelle Rodriguez, Giovanni Ribisi, Joel David Moore, CCH Pounder, Wes Studi, Laz Alonso James Cameron en James Cameron In the 22nd century, a paraplegic Marine is dispatched to the moon Pandora on a unique mission, but becomes torn between following orders and protecting an alien civilization."
        ],
        [
         "4",
         "The Avengers",
         "The Avengers Science Fiction, Action, Adventure new york city, superhero, shield, based on comic, alien invasion, superhero team, aftercreditsstinger, duringcreditsstinger, marvel cinematic universe (mcu) Robert Downey Jr., Chris Evans, Mark Ruffalo, Chris Hemsworth, Scarlett Johansson, Jeremy Renner, Tom Hiddleston, Clark Gregg, Cobie Smulders, Stellan Skarsgård Joss Whedon en Joss Whedon, Zak Penn When an unexpected enemy emerges and threatens global safety and security, Nick Fury, director of the international peacekeeping agency known as S.H.I.E.L.D., finds himself in need of a team to pull the world back from the brink of disaster. Spanning the globe, a daring recruitment effort begins!"
        ]
       ],
       "shape": {
        "columns": 2,
        "rows": 5
       }
      },
      "text/html": [
       "<div>\n",
       "<style scoped>\n",
       "    .dataframe tbody tr th:only-of-type {\n",
       "        vertical-align: middle;\n",
       "    }\n",
       "\n",
       "    .dataframe tbody tr th {\n",
       "        vertical-align: top;\n",
       "    }\n",
       "\n",
       "    .dataframe thead th {\n",
       "        text-align: right;\n",
       "    }\n",
       "</style>\n",
       "<table border=\"1\" class=\"dataframe\">\n",
       "  <thead>\n",
       "    <tr style=\"text-align: right;\">\n",
       "      <th></th>\n",
       "      <th>title</th>\n",
       "      <th>tag</th>\n",
       "    </tr>\n",
       "  </thead>\n",
       "  <tbody>\n",
       "    <tr>\n",
       "      <th>0</th>\n",
       "      <td>Inception</td>\n",
       "      <td>Inception Action, Science Fiction, Adventure r...</td>\n",
       "    </tr>\n",
       "    <tr>\n",
       "      <th>1</th>\n",
       "      <td>Interstellar</td>\n",
       "      <td>Interstellar Adventure, Drama, Science Fiction...</td>\n",
       "    </tr>\n",
       "    <tr>\n",
       "      <th>2</th>\n",
       "      <td>The Dark Knight</td>\n",
       "      <td>The Dark Knight Drama, Action, Crime, Thriller...</td>\n",
       "    </tr>\n",
       "    <tr>\n",
       "      <th>3</th>\n",
       "      <td>Avatar</td>\n",
       "      <td>Avatar Action, Adventure, Fantasy, Science Fic...</td>\n",
       "    </tr>\n",
       "    <tr>\n",
       "      <th>4</th>\n",
       "      <td>The Avengers</td>\n",
       "      <td>The Avengers Science Fiction, Action, Adventur...</td>\n",
       "    </tr>\n",
       "  </tbody>\n",
       "</table>\n",
       "</div>"
      ],
      "text/plain": [
       "             title                                                tag\n",
       "0        Inception  Inception Action, Science Fiction, Adventure r...\n",
       "1     Interstellar  Interstellar Adventure, Drama, Science Fiction...\n",
       "2  The Dark Knight  The Dark Knight Drama, Action, Crime, Thriller...\n",
       "3           Avatar  Avatar Action, Adventure, Fantasy, Science Fic...\n",
       "4     The Avengers  The Avengers Science Fiction, Action, Adventur..."
      ]
     },
     "execution_count": 32,
     "metadata": {},
     "output_type": "execute_result"
    }
   ],
   "source": [
    "data.head()"
   ]
  },
  {
   "cell_type": "code",
   "execution_count": 33,
   "metadata": {
    "colab": {
     "base_uri": "https://localhost:8080/",
     "height": 206
    },
    "executionInfo": {
     "elapsed": 21,
     "status": "ok",
     "timestamp": 1760444668820,
     "user": {
      "displayName": "Shakib Ahmed",
      "userId": "10423576209203003437"
     },
     "user_tz": -360
    },
    "id": "OyxqmvKWIWne",
    "outputId": "27555a12-a645-44e8-918e-e803c8bdf47e"
   },
   "outputs": [
    {
     "data": {
      "application/vnd.microsoft.datawrangler.viewer.v0+json": {
       "columns": [
        {
         "name": "index",
         "rawType": "int64",
         "type": "integer"
        },
        {
         "name": "title",
         "rawType": "object",
         "type": "string"
        },
        {
         "name": "tag",
         "rawType": "object",
         "type": "string"
        }
       ],
       "ref": "163bf368-2c83-40eb-88a3-f09e5f100dd9",
       "rows": [
        [
         "29038",
         "Arrowhead",
         "Arrowhead Action, Adventure, Mystery, Science Fiction australia, alien, stranded, signal Dan Mor, Aleisha Rose, Shaun Micallef, Mark Redpath, Christopher Kirby, Jamie Foster, Jak Wyld, Akira Bradley, Adam Bokos, Adam Tuohy Jesse O'Brien en Jesse O'Brien Kye is a prisoner of war caught between two armies that he doesn't believe in. When offered an opportunity for freedom, Kye sets out on one last rescue mission only to become stranded when his ship crash lands. Kye soon realises that the deadliest creature on the desert moon is himself."
        ],
        [
         "29040",
         "Digimon Adventure tri. Part 2: Determination",
         "Digimon Adventure tri. Part 2: Determination Animation, Adventure, Science Fiction monster, anime, proxy battle, digimon Natsuki Hanae, Yoshimasa Hosoya, Suzuko Mimori, Mutsumi Tamura, Hitomi Yoshida, Junya Ikeda, Junya Enoki, Mao Ichimichi, Miho Arakawa, Chika Sakamoto Keitarô Motonaga ja Akiyoshi Hongo, Yûko Kakihara The DigiDestined go to a nearby hot springs theme park and everyone has a good time, but Joe doesn't show up because he wants to study for his exams. Another infected Digimon, Ogremon, attacks Odaiba. Gomamon runs away from home while Mimi faces problems with the other DigiDestined and her classmates because of her selfish ideas."
        ],
        [
         "29041",
         "Man of Aran",
         "Man of Aran Documentary island, fisherman, ireland, shark, hardship, shark fishers Colman 'Tiger' King, Maggie Dirrane, Michael Dirrane, Patch 'Red Beard' Ruadh, Patcheen Faherty, Tommy O'Rourke, Stephen Dirrane, Pat McDonough Robert J. Flaherty en Robert J. Flaherty A documentary on the life of the people of  the Aran Islands, who were believed to contain the essence of the ancient Irish life, represented by a pure uncorrupted peasant existence centred around the struggle between man and his hostile but magnificent surroundings. A blend of documentary and fictional narrative, the film captures the everyday trials of life on Ireland's unforgiving Aran Islands."
        ],
        [
         "29042",
         "SeaFood",
         "SeaFood Animation, Comedy, Family, Adventure underwater, sea creature Steven Bone, Colin Chong, Jason Cottom, Kennie Dowle, Diong Chae Lian, Maxwell Vreeland Andrew, Tikriti Shabudin, Adila Shakir, Jay Sheldon, Andrew Susay Aun Hoe Goh th Jeffrey Chiang Pup, a bamboo shark, discovers egg sacs while playing around the ocean with his friends. When he sees human poachers stealing the eggs from his reef, Pup makes it his mission to save his family. As he leaves the sea and enters the beautiful, yet dangerous, world of humans he'll prove he isn't too small to save his family."
        ],
        [
         "29043",
         "Rails & Ties",
         "Rails & Ties Drama train accident, sorrow, accidental death, woman director Kevin Bacon, Marcia Gay Harden, Miles Heizer, Marin Hinkle, Eugene Byrd, Bonnie Root, Kathryn Joosten, Steve Eastin, Laura Cerón, Margo Martindale Alison Eastwood en Micky Levy A deadly collision between a train and car lead to an unlikely bond between the train engineer and a young boy who escapes the carnage."
        ]
       ],
       "shape": {
        "columns": 2,
        "rows": 5
       }
      },
      "text/html": [
       "<div>\n",
       "<style scoped>\n",
       "    .dataframe tbody tr th:only-of-type {\n",
       "        vertical-align: middle;\n",
       "    }\n",
       "\n",
       "    .dataframe tbody tr th {\n",
       "        vertical-align: top;\n",
       "    }\n",
       "\n",
       "    .dataframe thead th {\n",
       "        text-align: right;\n",
       "    }\n",
       "</style>\n",
       "<table border=\"1\" class=\"dataframe\">\n",
       "  <thead>\n",
       "    <tr style=\"text-align: right;\">\n",
       "      <th></th>\n",
       "      <th>title</th>\n",
       "      <th>tag</th>\n",
       "    </tr>\n",
       "  </thead>\n",
       "  <tbody>\n",
       "    <tr>\n",
       "      <th>29038</th>\n",
       "      <td>Arrowhead</td>\n",
       "      <td>Arrowhead Action, Adventure, Mystery, Science ...</td>\n",
       "    </tr>\n",
       "    <tr>\n",
       "      <th>29040</th>\n",
       "      <td>Digimon Adventure tri. Part 2: Determination</td>\n",
       "      <td>Digimon Adventure tri. Part 2: Determination A...</td>\n",
       "    </tr>\n",
       "    <tr>\n",
       "      <th>29041</th>\n",
       "      <td>Man of Aran</td>\n",
       "      <td>Man of Aran Documentary island, fisherman, ire...</td>\n",
       "    </tr>\n",
       "    <tr>\n",
       "      <th>29042</th>\n",
       "      <td>SeaFood</td>\n",
       "      <td>SeaFood Animation, Comedy, Family, Adventure u...</td>\n",
       "    </tr>\n",
       "    <tr>\n",
       "      <th>29043</th>\n",
       "      <td>Rails &amp; Ties</td>\n",
       "      <td>Rails &amp; Ties Drama train accident, sorrow, acc...</td>\n",
       "    </tr>\n",
       "  </tbody>\n",
       "</table>\n",
       "</div>"
      ],
      "text/plain": [
       "                                              title  \\\n",
       "29038                                     Arrowhead   \n",
       "29040  Digimon Adventure tri. Part 2: Determination   \n",
       "29041                                   Man of Aran   \n",
       "29042                                       SeaFood   \n",
       "29043                                  Rails & Ties   \n",
       "\n",
       "                                                     tag  \n",
       "29038  Arrowhead Action, Adventure, Mystery, Science ...  \n",
       "29040  Digimon Adventure tri. Part 2: Determination A...  \n",
       "29041  Man of Aran Documentary island, fisherman, ire...  \n",
       "29042  SeaFood Animation, Comedy, Family, Adventure u...  \n",
       "29043  Rails & Ties Drama train accident, sorrow, acc...  "
      ]
     },
     "execution_count": 33,
     "metadata": {},
     "output_type": "execute_result"
    }
   ],
   "source": [
    "data.tail()"
   ]
  },
  {
   "cell_type": "code",
   "execution_count": 34,
   "metadata": {
    "colab": {
     "base_uri": "https://localhost:8080/",
     "height": 69
    },
    "executionInfo": {
     "elapsed": 3,
     "status": "ok",
     "timestamp": 1760444668825,
     "user": {
      "displayName": "Shakib Ahmed",
      "userId": "10423576209203003437"
     },
     "user_tz": -360
    },
    "id": "qh4uImwyDCsV",
    "outputId": "1cb18189-a0d6-44bf-ede8-a9b2cc555876"
   },
   "outputs": [
    {
     "data": {
      "text/plain": [
       "'Inception Action, Science Fiction, Adventure rescue, mission, dream, airplane, paris, france, virtual reality, kidnapping, philosophy, spy, allegory, manipulation, car crash, heist, memory, architecture, los angeles, california, dream world, subconscious Leonardo DiCaprio, Joseph Gordon-Levitt, Ken Watanabe, Tom Hardy, Elliot Page, Dileep Rao, Cillian Murphy, Tom Berenger, Marion Cotillard, Pete Postlethwaite Christopher Nolan en Christopher Nolan Cobb, a skilled thief who commits corporate espionage by infiltrating the subconscious of his targets is offered a chance to regain his old life as payment for a task considered to be impossible: \"inception\", the implantation of another person\\'s idea into a target\\'s subconscious.'"
      ]
     },
     "execution_count": 34,
     "metadata": {},
     "output_type": "execute_result"
    }
   ],
   "source": [
    "data['tag'][0]"
   ]
  },
  {
   "cell_type": "code",
   "execution_count": 35,
   "metadata": {
    "colab": {
     "base_uri": "https://localhost:8080/"
    },
    "executionInfo": {
     "elapsed": 1586,
     "status": "ok",
     "timestamp": 1760444670414,
     "user": {
      "displayName": "Shakib Ahmed",
      "userId": "10423576209203003437"
     },
     "user_tz": -360
    },
    "id": "qF7CVfYVJbGu",
    "outputId": "7737d6e3-649a-477f-c4e8-4d4e7827a927"
   },
   "outputs": [
    {
     "name": "stderr",
     "output_type": "stream",
     "text": [
      "[nltk_data] Downloading package punkt to\n",
      "[nltk_data]     C:\\Users\\YASIN\\AppData\\Roaming\\nltk_data...\n",
      "[nltk_data]   Package punkt is already up-to-date!\n",
      "[nltk_data] Downloading package punkt_tab to\n",
      "[nltk_data]     C:\\Users\\YASIN\\AppData\\Roaming\\nltk_data...\n",
      "[nltk_data]   Package punkt_tab is already up-to-date!\n",
      "[nltk_data] Downloading package stopwords to\n",
      "[nltk_data]     C:\\Users\\YASIN\\AppData\\Roaming\\nltk_data...\n",
      "[nltk_data]   Package stopwords is already up-to-date!\n"
     ]
    },
    {
     "data": {
      "text/plain": [
       "True"
      ]
     },
     "execution_count": 35,
     "metadata": {},
     "output_type": "execute_result"
    }
   ],
   "source": [
    "# download nltk data\n",
    "\n",
    "nltk.download('punkt')\n",
    "nltk.download('punkt_tab')\n",
    "nltk.download('stopwords')"
   ]
  },
  {
   "cell_type": "code",
   "execution_count": 36,
   "metadata": {
    "id": "GKq1AHDvJiw_"
   },
   "outputs": [],
   "source": [
    "# english stop words like - the, are, in, to, into, and, an, a, by and etc...\n",
    "stop_words = set(stopwords.words('english'))"
   ]
  },
  {
   "cell_type": "code",
   "execution_count": 37,
   "metadata": {
    "id": "b-StomeyJoIV"
   },
   "outputs": [],
   "source": [
    "# function will process the text by remove special character and number, convert into lowercase and remove stopwords from the text\n",
    "def preprocessText(text):\n",
    "  text = re.sub(r\"[^a-zA-Z\\s]\", \"\", text)\n",
    "  text = text.lower()\n",
    "  tokens = word_tokenize(text)\n",
    "  tokens = [word for word in tokens if word not in stop_words]\n",
    "  return \" \".join(tokens)\n"
   ]
  },
  {
   "cell_type": "code",
   "execution_count": 38,
   "metadata": {
    "colab": {
     "base_uri": "https://localhost:8080/",
     "height": 206
    },
    "executionInfo": {
     "elapsed": 196,
     "status": "ok",
     "timestamp": 1760444670687,
     "user": {
      "displayName": "Shakib Ahmed",
      "userId": "10423576209203003437"
     },
     "user_tz": -360
    },
    "id": "MjtKQ3a4LLYj",
    "outputId": "f272e9f2-923e-43b0-fe75-8d9cf15323df"
   },
   "outputs": [
    {
     "data": {
      "application/vnd.microsoft.datawrangler.viewer.v0+json": {
       "columns": [
        {
         "name": "index",
         "rawType": "int64",
         "type": "integer"
        },
        {
         "name": "title",
         "rawType": "object",
         "type": "string"
        },
        {
         "name": "tag",
         "rawType": "object",
         "type": "string"
        }
       ],
       "ref": "e4e42638-75e3-47a0-8eeb-6fce2464005d",
       "rows": [
        [
         "0",
         "Inception",
         "Inception Action, Science Fiction, Adventure rescue, mission, dream, airplane, paris, france, virtual reality, kidnapping, philosophy, spy, allegory, manipulation, car crash, heist, memory, architecture, los angeles, california, dream world, subconscious Leonardo DiCaprio, Joseph Gordon-Levitt, Ken Watanabe, Tom Hardy, Elliot Page, Dileep Rao, Cillian Murphy, Tom Berenger, Marion Cotillard, Pete Postlethwaite Christopher Nolan en Christopher Nolan Cobb, a skilled thief who commits corporate espionage by infiltrating the subconscious of his targets is offered a chance to regain his old life as payment for a task considered to be impossible: \"inception\", the implantation of another person's idea into a target's subconscious."
        ],
        [
         "1",
         "Interstellar",
         "Interstellar Adventure, Drama, Science Fiction rescue, future, spacecraft, race against time, artificial intelligence (a.i.), nasa, time warp, dystopia, expedition, space travel, wormhole, famine, black hole, quantum mechanics, family relationships, space, robot, astronaut, scientist, single father, farmer, space station, curious, space adventure, time paradox, thoughtful, time-manipulation, father daughter relationship, 2060s, cornfield, time manipulation, complicated Matthew McConaughey, Anne Hathaway, Michael Caine, Jessica Chastain, Casey Affleck, Wes Bentley, Topher Grace, Mackenzie Foy, Ellen Burstyn, John Lithgow Christopher Nolan en Jonathan Nolan, Christopher Nolan The adventures of a group of explorers who make use of a newly discovered wormhole to surpass the limitations on human space travel and conquer the vast distances involved in an interstellar voyage."
        ],
        [
         "2",
         "The Dark Knight",
         "The Dark Knight Drama, Action, Crime, Thriller joker, sadism, chaos, secret identity, crime fighter, superhero, anti hero, scarecrow, based on comic, vigilante, organized crime, tragic hero, anti villain, criminal mastermind, district attorney, super power, super villain, neo-noir Christian Bale, Heath Ledger, Aaron Eckhart, Michael Caine, Maggie Gyllenhaal, Gary Oldman, Morgan Freeman, Monique Gabriela Curnen, Ron Dean, Cillian Murphy Christopher Nolan en Jonathan Nolan, Christopher Nolan, David S. Goyer, Bob Kane Batman raises the stakes in his war on crime. With the help of Lt. Jim Gordon and District Attorney Harvey Dent, Batman sets out to dismantle the remaining criminal organizations that plague the streets. The partnership proves to be effective, but they soon find themselves prey to a reign of chaos unleashed by a rising criminal mastermind known to the terrified citizens of Gotham as the Joker."
        ],
        [
         "3",
         "Avatar",
         "Avatar Action, Adventure, Fantasy, Science Fiction future, society, culture clash, space travel, space war, space colony, tribe, romance, alien, futuristic, space, alien planet, marine, soldier, battle, love affair, nature, anti war, power relations, joyful Sam Worthington, Zoe Saldaña, Sigourney Weaver, Stephen Lang, Michelle Rodriguez, Giovanni Ribisi, Joel David Moore, CCH Pounder, Wes Studi, Laz Alonso James Cameron en James Cameron In the 22nd century, a paraplegic Marine is dispatched to the moon Pandora on a unique mission, but becomes torn between following orders and protecting an alien civilization."
        ],
        [
         "4",
         "The Avengers",
         "The Avengers Science Fiction, Action, Adventure new york city, superhero, shield, based on comic, alien invasion, superhero team, aftercreditsstinger, duringcreditsstinger, marvel cinematic universe (mcu) Robert Downey Jr., Chris Evans, Mark Ruffalo, Chris Hemsworth, Scarlett Johansson, Jeremy Renner, Tom Hiddleston, Clark Gregg, Cobie Smulders, Stellan Skarsgård Joss Whedon en Joss Whedon, Zak Penn When an unexpected enemy emerges and threatens global safety and security, Nick Fury, director of the international peacekeeping agency known as S.H.I.E.L.D., finds himself in need of a team to pull the world back from the brink of disaster. Spanning the globe, a daring recruitment effort begins!"
        ]
       ],
       "shape": {
        "columns": 2,
        "rows": 5
       }
      },
      "text/html": [
       "<div>\n",
       "<style scoped>\n",
       "    .dataframe tbody tr th:only-of-type {\n",
       "        vertical-align: middle;\n",
       "    }\n",
       "\n",
       "    .dataframe tbody tr th {\n",
       "        vertical-align: top;\n",
       "    }\n",
       "\n",
       "    .dataframe thead th {\n",
       "        text-align: right;\n",
       "    }\n",
       "</style>\n",
       "<table border=\"1\" class=\"dataframe\">\n",
       "  <thead>\n",
       "    <tr style=\"text-align: right;\">\n",
       "      <th></th>\n",
       "      <th>title</th>\n",
       "      <th>tag</th>\n",
       "    </tr>\n",
       "  </thead>\n",
       "  <tbody>\n",
       "    <tr>\n",
       "      <th>0</th>\n",
       "      <td>Inception</td>\n",
       "      <td>Inception Action, Science Fiction, Adventure r...</td>\n",
       "    </tr>\n",
       "    <tr>\n",
       "      <th>1</th>\n",
       "      <td>Interstellar</td>\n",
       "      <td>Interstellar Adventure, Drama, Science Fiction...</td>\n",
       "    </tr>\n",
       "    <tr>\n",
       "      <th>2</th>\n",
       "      <td>The Dark Knight</td>\n",
       "      <td>The Dark Knight Drama, Action, Crime, Thriller...</td>\n",
       "    </tr>\n",
       "    <tr>\n",
       "      <th>3</th>\n",
       "      <td>Avatar</td>\n",
       "      <td>Avatar Action, Adventure, Fantasy, Science Fic...</td>\n",
       "    </tr>\n",
       "    <tr>\n",
       "      <th>4</th>\n",
       "      <td>The Avengers</td>\n",
       "      <td>The Avengers Science Fiction, Action, Adventur...</td>\n",
       "    </tr>\n",
       "  </tbody>\n",
       "</table>\n",
       "</div>"
      ],
      "text/plain": [
       "             title                                                tag\n",
       "0        Inception  Inception Action, Science Fiction, Adventure r...\n",
       "1     Interstellar  Interstellar Adventure, Drama, Science Fiction...\n",
       "2  The Dark Knight  The Dark Knight Drama, Action, Crime, Thriller...\n",
       "3           Avatar  Avatar Action, Adventure, Fantasy, Science Fic...\n",
       "4     The Avengers  The Avengers Science Fiction, Action, Adventur..."
      ]
     },
     "execution_count": 38,
     "metadata": {},
     "output_type": "execute_result"
    }
   ],
   "source": [
    "data.head()"
   ]
  },
  {
   "cell_type": "code",
   "execution_count": 39,
   "metadata": {
    "colab": {
     "base_uri": "https://localhost:8080/"
    },
    "executionInfo": {
     "elapsed": 10281,
     "status": "ok",
     "timestamp": 1760444680978,
     "user": {
      "displayName": "Shakib Ahmed",
      "userId": "10423576209203003437"
     },
     "user_tz": -360
    },
    "id": "dqWNFH9KLjl7",
    "outputId": "ddac4276-df13-4521-aeb0-d2d64baaa191"
   },
   "outputs": [
    {
     "name": "stderr",
     "output_type": "stream",
     "text": [
      "C:\\Users\\YASIN\\AppData\\Local\\Temp\\ipykernel_11288\\1255604065.py:2: SettingWithCopyWarning: \n",
      "A value is trying to be set on a copy of a slice from a DataFrame.\n",
      "Try using .loc[row_indexer,col_indexer] = value instead\n",
      "\n",
      "See the caveats in the documentation: https://pandas.pydata.org/pandas-docs/stable/user_guide/indexing.html#returning-a-view-versus-a-copy\n",
      "  data['processed_tag'] = data['tag'].apply(preprocessText)\n"
     ]
    }
   ],
   "source": [
    "# preprocessing the movies tags text\n",
    "data['processed_tag'] = data['tag'].apply(preprocessText)"
   ]
  },
  {
   "cell_type": "code",
   "execution_count": 40,
   "metadata": {
    "colab": {
     "base_uri": "https://localhost:8080/",
     "height": 206
    },
    "executionInfo": {
     "elapsed": 314,
     "status": "ok",
     "timestamp": 1760444681295,
     "user": {
      "displayName": "Shakib Ahmed",
      "userId": "10423576209203003437"
     },
     "user_tz": -360
    },
    "id": "o3IPcxf9MUEq",
    "outputId": "5622dfb1-c86a-438e-b23c-5fb3ece550c3"
   },
   "outputs": [
    {
     "data": {
      "application/vnd.microsoft.datawrangler.viewer.v0+json": {
       "columns": [
        {
         "name": "index",
         "rawType": "int64",
         "type": "integer"
        },
        {
         "name": "title",
         "rawType": "object",
         "type": "string"
        },
        {
         "name": "tag",
         "rawType": "object",
         "type": "string"
        },
        {
         "name": "processed_tag",
         "rawType": "object",
         "type": "string"
        }
       ],
       "ref": "592b1713-7284-4bc0-92ce-5f17a17a7445",
       "rows": [
        [
         "0",
         "Inception",
         "Inception Action, Science Fiction, Adventure rescue, mission, dream, airplane, paris, france, virtual reality, kidnapping, philosophy, spy, allegory, manipulation, car crash, heist, memory, architecture, los angeles, california, dream world, subconscious Leonardo DiCaprio, Joseph Gordon-Levitt, Ken Watanabe, Tom Hardy, Elliot Page, Dileep Rao, Cillian Murphy, Tom Berenger, Marion Cotillard, Pete Postlethwaite Christopher Nolan en Christopher Nolan Cobb, a skilled thief who commits corporate espionage by infiltrating the subconscious of his targets is offered a chance to regain his old life as payment for a task considered to be impossible: \"inception\", the implantation of another person's idea into a target's subconscious.",
         "inception action science fiction adventure rescue mission dream airplane paris france virtual reality kidnapping philosophy spy allegory manipulation car crash heist memory architecture los angeles california dream world subconscious leonardo dicaprio joseph gordonlevitt ken watanabe tom hardy elliot page dileep rao cillian murphy tom berenger marion cotillard pete postlethwaite christopher nolan en christopher nolan cobb skilled thief commits corporate espionage infiltrating subconscious targets offered chance regain old life payment task considered impossible inception implantation another persons idea targets subconscious"
        ],
        [
         "1",
         "Interstellar",
         "Interstellar Adventure, Drama, Science Fiction rescue, future, spacecraft, race against time, artificial intelligence (a.i.), nasa, time warp, dystopia, expedition, space travel, wormhole, famine, black hole, quantum mechanics, family relationships, space, robot, astronaut, scientist, single father, farmer, space station, curious, space adventure, time paradox, thoughtful, time-manipulation, father daughter relationship, 2060s, cornfield, time manipulation, complicated Matthew McConaughey, Anne Hathaway, Michael Caine, Jessica Chastain, Casey Affleck, Wes Bentley, Topher Grace, Mackenzie Foy, Ellen Burstyn, John Lithgow Christopher Nolan en Jonathan Nolan, Christopher Nolan The adventures of a group of explorers who make use of a newly discovered wormhole to surpass the limitations on human space travel and conquer the vast distances involved in an interstellar voyage.",
         "interstellar adventure drama science fiction rescue future spacecraft race time artificial intelligence ai nasa time warp dystopia expedition space travel wormhole famine black hole quantum mechanics family relationships space robot astronaut scientist single father farmer space station curious space adventure time paradox thoughtful timemanipulation father daughter relationship cornfield time manipulation complicated matthew mcconaughey anne hathaway michael caine jessica chastain casey affleck wes bentley topher grace mackenzie foy ellen burstyn john lithgow christopher nolan en jonathan nolan christopher nolan adventures group explorers make use newly discovered wormhole surpass limitations human space travel conquer vast distances involved interstellar voyage"
        ],
        [
         "2",
         "The Dark Knight",
         "The Dark Knight Drama, Action, Crime, Thriller joker, sadism, chaos, secret identity, crime fighter, superhero, anti hero, scarecrow, based on comic, vigilante, organized crime, tragic hero, anti villain, criminal mastermind, district attorney, super power, super villain, neo-noir Christian Bale, Heath Ledger, Aaron Eckhart, Michael Caine, Maggie Gyllenhaal, Gary Oldman, Morgan Freeman, Monique Gabriela Curnen, Ron Dean, Cillian Murphy Christopher Nolan en Jonathan Nolan, Christopher Nolan, David S. Goyer, Bob Kane Batman raises the stakes in his war on crime. With the help of Lt. Jim Gordon and District Attorney Harvey Dent, Batman sets out to dismantle the remaining criminal organizations that plague the streets. The partnership proves to be effective, but they soon find themselves prey to a reign of chaos unleashed by a rising criminal mastermind known to the terrified citizens of Gotham as the Joker.",
         "dark knight drama action crime thriller joker sadism chaos secret identity crime fighter superhero anti hero scarecrow based comic vigilante organized crime tragic hero anti villain criminal mastermind district attorney super power super villain neonoir christian bale heath ledger aaron eckhart michael caine maggie gyllenhaal gary oldman morgan freeman monique gabriela curnen ron dean cillian murphy christopher nolan en jonathan nolan christopher nolan david goyer bob kane batman raises stakes war crime help lt jim gordon district attorney harvey dent batman sets dismantle remaining criminal organizations plague streets partnership proves effective soon find prey reign chaos unleashed rising criminal mastermind known terrified citizens gotham joker"
        ],
        [
         "3",
         "Avatar",
         "Avatar Action, Adventure, Fantasy, Science Fiction future, society, culture clash, space travel, space war, space colony, tribe, romance, alien, futuristic, space, alien planet, marine, soldier, battle, love affair, nature, anti war, power relations, joyful Sam Worthington, Zoe Saldaña, Sigourney Weaver, Stephen Lang, Michelle Rodriguez, Giovanni Ribisi, Joel David Moore, CCH Pounder, Wes Studi, Laz Alonso James Cameron en James Cameron In the 22nd century, a paraplegic Marine is dispatched to the moon Pandora on a unique mission, but becomes torn between following orders and protecting an alien civilization.",
         "avatar action adventure fantasy science fiction future society culture clash space travel space war space colony tribe romance alien futuristic space alien planet marine soldier battle love affair nature anti war power relations joyful sam worthington zoe saldaa sigourney weaver stephen lang michelle rodriguez giovanni ribisi joel david moore cch pounder wes studi laz alonso james cameron en james cameron nd century paraplegic marine dispatched moon pandora unique mission becomes torn following orders protecting alien civilization"
        ],
        [
         "4",
         "The Avengers",
         "The Avengers Science Fiction, Action, Adventure new york city, superhero, shield, based on comic, alien invasion, superhero team, aftercreditsstinger, duringcreditsstinger, marvel cinematic universe (mcu) Robert Downey Jr., Chris Evans, Mark Ruffalo, Chris Hemsworth, Scarlett Johansson, Jeremy Renner, Tom Hiddleston, Clark Gregg, Cobie Smulders, Stellan Skarsgård Joss Whedon en Joss Whedon, Zak Penn When an unexpected enemy emerges and threatens global safety and security, Nick Fury, director of the international peacekeeping agency known as S.H.I.E.L.D., finds himself in need of a team to pull the world back from the brink of disaster. Spanning the globe, a daring recruitment effort begins!",
         "avengers science fiction action adventure new york city superhero shield based comic alien invasion superhero team aftercreditsstinger duringcreditsstinger marvel cinematic universe mcu robert downey jr chris evans mark ruffalo chris hemsworth scarlett johansson jeremy renner tom hiddleston clark gregg cobie smulders stellan skarsgrd joss whedon en joss whedon zak penn unexpected enemy emerges threatens global safety security nick fury director international peacekeeping agency known shield finds need team pull world back brink disaster spanning globe daring recruitment effort begins"
        ]
       ],
       "shape": {
        "columns": 3,
        "rows": 5
       }
      },
      "text/html": [
       "<div>\n",
       "<style scoped>\n",
       "    .dataframe tbody tr th:only-of-type {\n",
       "        vertical-align: middle;\n",
       "    }\n",
       "\n",
       "    .dataframe tbody tr th {\n",
       "        vertical-align: top;\n",
       "    }\n",
       "\n",
       "    .dataframe thead th {\n",
       "        text-align: right;\n",
       "    }\n",
       "</style>\n",
       "<table border=\"1\" class=\"dataframe\">\n",
       "  <thead>\n",
       "    <tr style=\"text-align: right;\">\n",
       "      <th></th>\n",
       "      <th>title</th>\n",
       "      <th>tag</th>\n",
       "      <th>processed_tag</th>\n",
       "    </tr>\n",
       "  </thead>\n",
       "  <tbody>\n",
       "    <tr>\n",
       "      <th>0</th>\n",
       "      <td>Inception</td>\n",
       "      <td>Inception Action, Science Fiction, Adventure r...</td>\n",
       "      <td>inception action science fiction adventure res...</td>\n",
       "    </tr>\n",
       "    <tr>\n",
       "      <th>1</th>\n",
       "      <td>Interstellar</td>\n",
       "      <td>Interstellar Adventure, Drama, Science Fiction...</td>\n",
       "      <td>interstellar adventure drama science fiction r...</td>\n",
       "    </tr>\n",
       "    <tr>\n",
       "      <th>2</th>\n",
       "      <td>The Dark Knight</td>\n",
       "      <td>The Dark Knight Drama, Action, Crime, Thriller...</td>\n",
       "      <td>dark knight drama action crime thriller joker ...</td>\n",
       "    </tr>\n",
       "    <tr>\n",
       "      <th>3</th>\n",
       "      <td>Avatar</td>\n",
       "      <td>Avatar Action, Adventure, Fantasy, Science Fic...</td>\n",
       "      <td>avatar action adventure fantasy science fictio...</td>\n",
       "    </tr>\n",
       "    <tr>\n",
       "      <th>4</th>\n",
       "      <td>The Avengers</td>\n",
       "      <td>The Avengers Science Fiction, Action, Adventur...</td>\n",
       "      <td>avengers science fiction action adventure new ...</td>\n",
       "    </tr>\n",
       "  </tbody>\n",
       "</table>\n",
       "</div>"
      ],
      "text/plain": [
       "             title                                                tag  \\\n",
       "0        Inception  Inception Action, Science Fiction, Adventure r...   \n",
       "1     Interstellar  Interstellar Adventure, Drama, Science Fiction...   \n",
       "2  The Dark Knight  The Dark Knight Drama, Action, Crime, Thriller...   \n",
       "3           Avatar  Avatar Action, Adventure, Fantasy, Science Fic...   \n",
       "4     The Avengers  The Avengers Science Fiction, Action, Adventur...   \n",
       "\n",
       "                                       processed_tag  \n",
       "0  inception action science fiction adventure res...  \n",
       "1  interstellar adventure drama science fiction r...  \n",
       "2  dark knight drama action crime thriller joker ...  \n",
       "3  avatar action adventure fantasy science fictio...  \n",
       "4  avengers science fiction action adventure new ...  "
      ]
     },
     "execution_count": 40,
     "metadata": {},
     "output_type": "execute_result"
    }
   ],
   "source": [
    "data.head()"
   ]
  },
  {
   "cell_type": "code",
   "execution_count": 41,
   "metadata": {
    "colab": {
     "base_uri": "https://localhost:8080/",
     "height": 69
    },
    "executionInfo": {
     "elapsed": 5,
     "status": "ok",
     "timestamp": 1760444681304,
     "user": {
      "displayName": "Shakib Ahmed",
      "userId": "10423576209203003437"
     },
     "user_tz": -360
    },
    "id": "f-hEfygZMo4T",
    "outputId": "11d626fa-1e64-4e3f-8a29-ef2d1616cef0"
   },
   "outputs": [
    {
     "data": {
      "text/plain": [
       "'inception action science fiction adventure rescue mission dream airplane paris france virtual reality kidnapping philosophy spy allegory manipulation car crash heist memory architecture los angeles california dream world subconscious leonardo dicaprio joseph gordonlevitt ken watanabe tom hardy elliot page dileep rao cillian murphy tom berenger marion cotillard pete postlethwaite christopher nolan en christopher nolan cobb skilled thief commits corporate espionage infiltrating subconscious targets offered chance regain old life payment task considered impossible inception implantation another persons idea targets subconscious'"
      ]
     },
     "execution_count": 41,
     "metadata": {},
     "output_type": "execute_result"
    }
   ],
   "source": [
    "data['processed_tag'][0]"
   ]
  },
  {
   "cell_type": "code",
   "execution_count": 42,
   "metadata": {
    "colab": {
     "base_uri": "https://localhost:8080/",
     "height": 69
    },
    "executionInfo": {
     "elapsed": 43,
     "status": "ok",
     "timestamp": 1760444681350,
     "user": {
      "displayName": "Shakib Ahmed",
      "userId": "10423576209203003437"
     },
     "user_tz": -360
    },
    "id": "AY0D1ejHMsup",
    "outputId": "bc964a2d-9507-45e0-e106-9babdd5c2fce"
   },
   "outputs": [
    {
     "data": {
      "text/plain": [
       "'Inception Action, Science Fiction, Adventure rescue, mission, dream, airplane, paris, france, virtual reality, kidnapping, philosophy, spy, allegory, manipulation, car crash, heist, memory, architecture, los angeles, california, dream world, subconscious Leonardo DiCaprio, Joseph Gordon-Levitt, Ken Watanabe, Tom Hardy, Elliot Page, Dileep Rao, Cillian Murphy, Tom Berenger, Marion Cotillard, Pete Postlethwaite Christopher Nolan en Christopher Nolan Cobb, a skilled thief who commits corporate espionage by infiltrating the subconscious of his targets is offered a chance to regain his old life as payment for a task considered to be impossible: \"inception\", the implantation of another person\\'s idea into a target\\'s subconscious.'"
      ]
     },
     "execution_count": 42,
     "metadata": {},
     "output_type": "execute_result"
    }
   ],
   "source": [
    "data['tag'][0]"
   ]
  },
  {
   "cell_type": "code",
   "execution_count": 43,
   "metadata": {
    "id": "GBbiPDAAOuAu"
   },
   "outputs": [],
   "source": [
    "# vectorization with TF-IDF\n",
    "\n",
    "tfidf_vectors = TfidfVectorizer(max_features=5000)\n",
    "tfidf_matrix = tfidf_vectors.fit_transform(data['processed_tag'])"
   ]
  },
  {
   "cell_type": "markdown",
   "metadata": {
    "id": "i6pGwZu7OA5b"
   },
   "source": [
    "# Formula for TF-IDF -\n",
    "IDF(word) = (log((1 + N) / 1 + DF(word))) + 1\n",
    "\n",
    "TF-IDF = TF(word, document) * IDF(word) = TF * IDF\n",
    "\n",
    "Here :\n",
    "\n",
    "  TF(word, document) = Frequency of the word in that document\n",
    "\n",
    "  DF(word) = Number of documents that contain the word\n",
    "\n",
    "  N = Total number of documents\n",
    "\n",
    "  log = e based Logarithm\n",
    "\n",
    "\n",
    "\n",
    "\n",
    "# TF-IDF Calculation Example -\n",
    "\n",
    "Document 1 : peter parker is spiderman\n",
    "\n",
    "Document 2 : spiderman is famous superhero\n",
    "\n",
    "Document 3 : spiderman, spiderman is marbel superhero\n",
    "\n",
    "\n",
    "# TF-IDF Table -\n",
    "![Screenshot_20251007_130619.png](data:image/png;base64,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)\n",
    "\n",
    "\n"
   ]
  },
  {
   "cell_type": "code",
   "execution_count": 44,
   "metadata": {
    "colab": {
     "base_uri": "https://localhost:8080/"
    },
    "executionInfo": {
     "elapsed": 7,
     "status": "ok",
     "timestamp": 1760444683618,
     "user": {
      "displayName": "Shakib Ahmed",
      "userId": "10423576209203003437"
     },
     "user_tz": -360
    },
    "id": "jDmpX6IuPahg",
    "outputId": "36819591-c5db-4cf8-ccdd-5780aa50b166"
   },
   "outputs": [
    {
     "data": {
      "text/plain": [
       "(24000, 5000)"
      ]
     },
     "execution_count": 44,
     "metadata": {},
     "output_type": "execute_result"
    }
   ],
   "source": [
    "tfidf_matrix.shape"
   ]
  },
  {
   "cell_type": "code",
   "execution_count": 45,
   "metadata": {
    "id": "SC0vXIHgOv4J"
   },
   "outputs": [],
   "source": [
    "similarity = cosine_similarity(tfidf_matrix, tfidf_matrix)"
   ]
  },
  {
   "cell_type": "code",
   "execution_count": 46,
   "metadata": {
    "colab": {
     "base_uri": "https://localhost:8080/"
    },
    "executionInfo": {
     "elapsed": 7,
     "status": "ok",
     "timestamp": 1760444703891,
     "user": {
      "displayName": "Shakib Ahmed",
      "userId": "10423576209203003437"
     },
     "user_tz": -360
    },
    "id": "hu_KDJaYQp3v",
    "outputId": "23e66b94-8555-47be-adc5-bd551ad879cb"
   },
   "outputs": [
    {
     "data": {
      "text/plain": [
       "(24000, 24000)"
      ]
     },
     "execution_count": 46,
     "metadata": {},
     "output_type": "execute_result"
    }
   ],
   "source": [
    "similarity.shape"
   ]
  },
  {
   "cell_type": "code",
   "execution_count": 47,
   "metadata": {
    "colab": {
     "base_uri": "https://localhost:8080/"
    },
    "executionInfo": {
     "elapsed": 9,
     "status": "ok",
     "timestamp": 1760444703902,
     "user": {
      "displayName": "Shakib Ahmed",
      "userId": "10423576209203003437"
     },
     "user_tz": -360
    },
    "id": "noEVhEFMQtfM",
    "outputId": "659bbb2a-8213-47bb-94f2-106bda438265"
   },
   "outputs": [
    {
     "name": "stdout",
     "output_type": "stream",
     "text": [
      "[0.18459647 1.         0.15750426 ... 0.00526674 0.03096758 0.00275147]\n"
     ]
    }
   ],
   "source": [
    "print(similarity[1])"
   ]
  },
  {
   "cell_type": "code",
   "execution_count": 48,
   "metadata": {
    "colab": {
     "base_uri": "https://localhost:8080/",
     "height": 458
    },
    "executionInfo": {
     "elapsed": 5,
     "status": "ok",
     "timestamp": 1760444703903,
     "user": {
      "displayName": "Shakib Ahmed",
      "userId": "10423576209203003437"
     },
     "user_tz": -360
    },
    "id": "Sn4L1ww6Q7ee",
    "outputId": "341beb55-cf4c-485b-b43c-7b7535a1fd54"
   },
   "outputs": [
    {
     "data": {
      "application/vnd.microsoft.datawrangler.viewer.v0+json": {
       "columns": [
        {
         "name": "index",
         "rawType": "int64",
         "type": "integer"
        },
        {
         "name": "title",
         "rawType": "object",
         "type": "string"
        }
       ],
       "ref": "59e9af49-d75f-43a0-9dcc-e391f962780c",
       "rows": [
        [
         "0",
         "Inception"
        ],
        [
         "1",
         "Interstellar"
        ],
        [
         "2",
         "The Dark Knight"
        ],
        [
         "3",
         "Avatar"
        ],
        [
         "4",
         "The Avengers"
        ],
        [
         "5",
         "Deadpool"
        ],
        [
         "6",
         "Avengers: Infinity War"
        ],
        [
         "7",
         "Fight Club"
        ],
        [
         "8",
         "Guardians of the Galaxy"
        ],
        [
         "9",
         "Pulp Fiction"
        ],
        [
         "10",
         "Forrest Gump"
        ],
        [
         "11",
         "Harry Potter and the Philosopher's Stone"
        ],
        [
         "12",
         "Iron Man"
        ],
        [
         "13",
         "Django Unchained"
        ],
        [
         "14",
         "The Shawshank Redemption"
        ],
        [
         "15",
         "Avengers: Endgame"
        ],
        [
         "16",
         "The Matrix"
        ],
        [
         "17",
         "Titanic"
        ],
        [
         "18",
         "Joker"
        ],
        [
         "19",
         "The Lord of the Rings: The Fellowship of the Ring"
        ],
        [
         "20",
         "The Lord of the Rings: The Return of the King"
        ],
        [
         "21",
         "Shutter Island"
        ],
        [
         "22",
         "The Wolf of Wall Street"
        ],
        [
         "23",
         "Avengers: Age of Ultron"
        ],
        [
         "24",
         "Captain America: Civil War"
        ],
        [
         "25",
         "The Dark Knight Rises"
        ],
        [
         "26",
         "Iron Man 3"
        ],
        [
         "27",
         "Black Panther"
        ],
        [
         "28",
         "Doctor Strange"
        ],
        [
         "29",
         "Mad Max: Fury Road"
        ],
        [
         "30",
         "Inglourious Basterds"
        ],
        [
         "31",
         "The Hunger Games"
        ],
        [
         "32",
         "Spider-Man: Homecoming"
        ],
        [
         "33",
         "Harry Potter and the Chamber of Secrets"
        ],
        [
         "34",
         "Guardians of the Galaxy Vol. 2"
        ],
        [
         "35",
         "The Lord of the Rings: The Two Towers"
        ],
        [
         "36",
         "Captain America: The First Avenger"
        ],
        [
         "37",
         "Suicide Squad"
        ],
        [
         "38",
         "Harry Potter and the Prisoner of Azkaban"
        ],
        [
         "39",
         "Thor"
        ],
        [
         "40",
         "Iron Man 2"
        ],
        [
         "41",
         "Batman Begins"
        ],
        [
         "42",
         "Thor: Ragnarok"
        ],
        [
         "43",
         "Inside Out"
        ],
        [
         "44",
         "Jurassic World"
        ],
        [
         "45",
         "Se7en"
        ],
        [
         "46",
         "Harry Potter and the Goblet of Fire"
        ],
        [
         "47",
         "Pirates of the Caribbean: The Curse of the Black Pearl"
        ],
        [
         "48",
         "Harry Potter and the Deathly Hallows: Part 2"
        ],
        [
         "49",
         "Star Wars"
        ]
       ],
       "shape": {
        "columns": 1,
        "rows": 24000
       }
      },
      "text/plain": [
       "0                                           Inception\n",
       "1                                        Interstellar\n",
       "2                                     The Dark Knight\n",
       "3                                              Avatar\n",
       "4                                        The Avengers\n",
       "                             ...                     \n",
       "29038                                       Arrowhead\n",
       "29040    Digimon Adventure tri. Part 2: Determination\n",
       "29041                                     Man of Aran\n",
       "29042                                         SeaFood\n",
       "29043                                    Rails & Ties\n",
       "Name: title, Length: 24000, dtype: object"
      ]
     },
     "execution_count": 48,
     "metadata": {},
     "output_type": "execute_result"
    }
   ],
   "source": [
    "data['title']\n"
   ]
  },
  {
   "cell_type": "code",
   "execution_count": 49,
   "metadata": {
    "colab": {
     "base_uri": "https://localhost:8080/"
    },
    "executionInfo": {
     "elapsed": 6,
     "status": "ok",
     "timestamp": 1760444703909,
     "user": {
      "displayName": "Shakib Ahmed",
      "userId": "10423576209203003437"
     },
     "user_tz": -360
    },
    "id": "Buv_YKEVTD8r",
    "outputId": "1ad9f5cb-35dc-4050-d76a-817bf242473f"
   },
   "outputs": [
    {
     "name": "stdout",
     "output_type": "stream",
     "text": [
      "Index([3], dtype='int64')\n"
     ]
    }
   ],
   "source": [
    "movie_index = data[data['title'] == 'Avatar'].index\n",
    "print(movie_index)"
   ]
  },
  {
   "cell_type": "code",
   "execution_count": 50,
   "metadata": {
    "colab": {
     "base_uri": "https://localhost:8080/"
    },
    "executionInfo": {
     "elapsed": 21,
     "status": "ok",
     "timestamp": 1760444703943,
     "user": {
      "displayName": "Shakib Ahmed",
      "userId": "10423576209203003437"
     },
     "user_tz": -360
    },
    "id": "FrpA9Xc1TmJL",
    "outputId": "550990d4-4cd5-4404-d02d-18d1ceddae2d"
   },
   "outputs": [
    {
     "name": "stdout",
     "output_type": "stream",
     "text": [
      "Index([3], dtype='int64')\n"
     ]
    }
   ],
   "source": [
    "movie_index = data[data['title'] == 'Avatar'].index\n",
    "print(movie_index)"
   ]
  },
  {
   "cell_type": "code",
   "execution_count": 51,
   "metadata": {
    "colab": {
     "base_uri": "https://localhost:8080/"
    },
    "executionInfo": {
     "elapsed": 4,
     "status": "ok",
     "timestamp": 1760444703948,
     "user": {
      "displayName": "Shakib Ahmed",
      "userId": "10423576209203003437"
     },
     "user_tz": -360
    },
    "id": "7RI1-md2T87a",
    "outputId": "d40bb9f4-274a-46f4-d65a-4d7b7b80b8a8"
   },
   "outputs": [
    {
     "name": "stdout",
     "output_type": "stream",
     "text": [
      "The Avengers\n"
     ]
    }
   ],
   "source": [
    "my_movie_name = data['title'][4]\n",
    "print(my_movie_name)"
   ]
  },
  {
   "cell_type": "code",
   "execution_count": 52,
   "metadata": {
    "id": "DTo_Of39UOO-"
   },
   "outputs": [],
   "source": [
    "def recommendation(movie_name, similarity=similarity, data=data, recommendNumber=10):\n",
    "    movie_index = data[data['title'].str.lower() == movie_name.lower()].index\n",
    "\n",
    "    if movie_index.empty:\n",
    "        return [], False\n",
    "\n",
    "    movie_index = movie_index[0]\n",
    "\n",
    "    similarity_score = list(enumerate(similarity[movie_index]))\n",
    "    similarity_score = sorted(similarity_score, key=lambda x: x[1], reverse=True)\n",
    "\n",
    "    similarity_score = similarity_score[1:recommendNumber+1]\n",
    "\n",
    "    movie_indices = [i[0] for i in similarity_score]\n",
    "\n",
    "    return data['title'].iloc[movie_indices], True\n"
   ]
  },
  {
   "cell_type": "code",
   "execution_count": 53,
   "metadata": {
    "colab": {
     "base_uri": "https://localhost:8080/"
    },
    "executionInfo": {
     "elapsed": 10514,
     "status": "ok",
     "timestamp": 1760444714569,
     "user": {
      "displayName": "Shakib Ahmed",
      "userId": "10423576209203003437"
     },
     "user_tz": -360
    },
    "id": "BkeDhHLuV6LF",
    "outputId": "34f10569-ee16-4ea3-b285-059823f4b08d"
   },
   "outputs": [
    {
     "name": "stdout",
     "output_type": "stream",
     "text": [
      "1. Whiplash\n",
      "2. Chasing Trane\n",
      "3. The Cotton Club\n",
      "4. Whiplash\n",
      "5. Sweet and Lowdown\n",
      "6. Guy and Madeline on a Park Bench\n",
      "7. Born to Be Blue\n",
      "8. Miss Pettigrew Lives for a Day\n",
      "9. Soul\n",
      "10. Hipsters\n"
     ]
    }
   ],
   "source": [
    "movie_name = input(\"The Flim Oracle gives you top similar movies.\\nEnter a movie name : \")\n",
    "recommend_movies, flag = recommendation(movie_name)\n",
    "\n",
    "if(flag):\n",
    "    serial = 1\n",
    "    for movie in recommend_movies:\n",
    "      print(f\"{serial}. {movie}\")\n",
    "      serial += 1\n",
    "else:\n",
    "    print(\"The movie you are searching for is not available in the dataset!\")\n"
   ]
  }
 ],
 "metadata": {
  "colab": {
   "provenance": []
  },
  "kernelspec": {
   "display_name": "Python 3",
   "name": "python3"
  },
  "language_info": {
   "codemirror_mode": {
    "name": "ipython",
    "version": 3
   },
   "file_extension": ".py",
   "mimetype": "text/x-python",
   "name": "python",
   "nbconvert_exporter": "python",
   "pygments_lexer": "ipython3",
   "version": "3.13.1"
  }
 },
 "nbformat": 4,
 "nbformat_minor": 0
}
